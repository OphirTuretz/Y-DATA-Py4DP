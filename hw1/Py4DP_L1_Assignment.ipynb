{
  "cells": [
    {
      "cell_type": "markdown",
      "metadata": {
        "id": "K1iQrBFmmERB",
        "tags": [
          "intro"
        ]
      },
      "source": [
        "# Grading process\n",
        "\n",
        "\n",
        "All assignments should be submitted in pairs. Only one member of a pair should submit the assignment. If you don't have a pair yet, you can submit individually (this assignment only). The submission notebook will be automatically validated with Papermill.\n",
        "\n",
        "Papermill will inject new cell after each cell tagged as `parameters` (see `View > Cell toolbar > Tags`). Notebook will be executed from top to bottom in a linear order.\n",
        "\n",
        "Please, **fill `STUDENT` variable with your name**, so that we can collect the results automatically. Please, do not change `parameters` (specifically, **do not change `TEST` variable**) and `validation` cells for grader to work correctly. You can, though, use the following clauses to wrap your code outside of `solution` cells:\n",
        "\n",
        "```python\n",
        "if not TEST:\n",
        "    <some code >\n",
        "```\n",
        "\n",
        "Each problem contains specific validation details. You need to fill each cell tagged `solution` with your code. Note, that solution function must be self-contained, i.e. it must not use any state from the notebook itself.\n",
        "\n",
        "Different problems result in different number of points. All problems in the basic section give 1 point, while all problems in intermediate section give 2 points. Total number of points are then divided by maximum number of points (11 in this assignment) and multiplied by 100 to get your final grade (0-100).\n",
        "\n",
        "You may find the following NumPy functions useful:\n",
        "\n",
        "- reduction functions: `np.mean`, `np.std`, `np.max`,\n",
        "- array creation functions: `np.zeros`, `np.arange`, `np.linspace`,\n",
        "- element-wise functions: `np.sin`, `np.isfinite`, `np.clip`,\n",
        "- other functions: `np.argmax`, `np.unique`, `np.column_stack`."
      ]
    },
    {
      "cell_type": "code",
      "execution_count": 1,
      "metadata": {
        "ExecuteTime": {
          "end_time": "2019-10-30T22:26:04.111972Z",
          "start_time": "2019-10-30T22:26:04.107385Z"
        },
        "id": "XfsDdN2FmERG"
      },
      "outputs": [],
      "source": [
        "import numpy as np"
      ]
    },
    {
      "cell_type": "code",
      "execution_count": 2,
      "metadata": {
        "ExecuteTime": {
          "end_time": "2019-10-30T22:26:04.372936Z",
          "start_time": "2019-10-30T22:26:04.364608Z"
        },
        "id": "-ofFxNpfmERI"
      },
      "outputs": [],
      "source": [
        "STUDENT = \"Amit Zulan, Ophir Turetz\" # use your name here"
      ]
    },
    {
      "cell_type": "code",
      "execution_count": 3,
      "metadata": {
        "id": "XvdwbZDVmERI",
        "tags": [
          "parameters"
        ]
      },
      "outputs": [],
      "source": [
        "ASSIGNMENT = 1\n",
        "TEST = False"
      ]
    },
    {
      "cell_type": "code",
      "execution_count": 4,
      "metadata": {
        "ExecuteTime": {
          "end_time": "2019-10-30T22:39:38.188583Z",
          "start_time": "2019-10-30T22:39:38.182534Z"
        },
        "id": "kQLXGZQJmERJ"
      },
      "outputs": [],
      "source": [
        "if TEST:\n",
        "    import solutions\n",
        "    total_grade = 0\n",
        "    MAX_POINTS = 11"
      ]
    },
    {
      "cell_type": "markdown",
      "metadata": {
        "id": "V1kfrMO-mERJ"
      },
      "source": [
        "# Basic arrays\n",
        "\n",
        "Problems 1, 2 and 3 cover the correct usage of `np.arange` (or `np.linspace` for that matter), basic masking and vectorized functions (like calculating `sin` of each element of an array in a vectorized manner)."
      ]
    },
    {
      "cell_type": "markdown",
      "metadata": {
        "id": "Ch_t4vhemERK",
        "tags": [
          "problem"
        ]
      },
      "source": [
        "### 1. Calculate $\\sin(x)$ for $0\\leq x < 2\\pi$ with a step of $0.1$.\n",
        "\n",
        "You need to implement a function, which calculates the required array. The exact values of $x$ are $[0, 0.1, 0.2,\\ldots,6.2]$.\n",
        "\n",
        "Result must be **1-dimensional**, and **will be tested against precomputed values**.\n",
        "\n",
        "Note, that `numpy` provides [constants](https://docs.scipy.org/doc/numpy-1.15.0/reference/constants.html), you can take $\\pi$ from there."
      ]
    },
    {
      "cell_type": "code",
      "execution_count": 5,
      "metadata": {
        "ExecuteTime": {
          "end_time": "2019-10-30T22:26:07.100307Z",
          "start_time": "2019-10-30T22:26:07.092132Z"
        },
        "id": "IW5XyaSjmERK",
        "tags": [
          "solution"
        ]
      },
      "outputs": [],
      "source": [
        "def sin_basic():\n",
        "    # your code goes here\n",
        "    x = np.arange(0, 2*np.pi, 0.1)\n",
        "    return np.sin(x)"
      ]
    },
    {
      "cell_type": "code",
      "execution_count": 6,
      "metadata": {
        "ExecuteTime": {
          "end_time": "2019-10-30T22:26:07.334174Z",
          "start_time": "2019-10-30T22:26:07.322103Z"
        },
        "id": "Fden4oaTmERL",
        "tags": [
          "validation"
        ]
      },
      "outputs": [],
      "source": [
        "PROBLEM_ID = 1\n",
        "\n",
        "if TEST:\n",
        "    total_grade += solutions.check(STUDENT, PROBLEM_ID, sin_basic)"
      ]
    },
    {
      "cell_type": "code",
      "source": [
        "if not TEST:\n",
        "  print(np.arange(0,2*np.pi,0.1))\n",
        "  print(sin_basic())\n",
        "  print(sin_basic().shape)\n",
        "  print(sin_basic().ndim)"
      ],
      "metadata": {
        "colab": {
          "base_uri": "https://localhost:8080/"
        },
        "id": "f4wNYuXk6JiL",
        "outputId": "ab771924-8602-4bd8-b0c6-f71fd956a79f"
      },
      "execution_count": 7,
      "outputs": [
        {
          "output_type": "stream",
          "name": "stdout",
          "text": [
            "[0.  0.1 0.2 0.3 0.4 0.5 0.6 0.7 0.8 0.9 1.  1.1 1.2 1.3 1.4 1.5 1.6 1.7\n",
            " 1.8 1.9 2.  2.1 2.2 2.3 2.4 2.5 2.6 2.7 2.8 2.9 3.  3.1 3.2 3.3 3.4 3.5\n",
            " 3.6 3.7 3.8 3.9 4.  4.1 4.2 4.3 4.4 4.5 4.6 4.7 4.8 4.9 5.  5.1 5.2 5.3\n",
            " 5.4 5.5 5.6 5.7 5.8 5.9 6.  6.1 6.2]\n",
            "[ 0.          0.09983342  0.19866933  0.29552021  0.38941834  0.47942554\n",
            "  0.56464247  0.64421769  0.71735609  0.78332691  0.84147098  0.89120736\n",
            "  0.93203909  0.96355819  0.98544973  0.99749499  0.9995736   0.99166481\n",
            "  0.97384763  0.94630009  0.90929743  0.86320937  0.8084964   0.74570521\n",
            "  0.67546318  0.59847214  0.51550137  0.42737988  0.33498815  0.23924933\n",
            "  0.14112001  0.04158066 -0.05837414 -0.15774569 -0.2555411  -0.35078323\n",
            " -0.44252044 -0.52983614 -0.61185789 -0.68776616 -0.7568025  -0.81827711\n",
            " -0.87157577 -0.91616594 -0.95160207 -0.97753012 -0.993691   -0.99992326\n",
            " -0.99616461 -0.98245261 -0.95892427 -0.92581468 -0.88345466 -0.83226744\n",
            " -0.77276449 -0.70554033 -0.63126664 -0.55068554 -0.46460218 -0.37387666\n",
            " -0.2794155  -0.1821625  -0.0830894 ]\n",
            "(63,)\n",
            "1\n"
          ]
        }
      ]
    },
    {
      "cell_type": "markdown",
      "metadata": {
        "id": "y54zqA-XmERM",
        "tags": [
          "problem"
        ]
      },
      "source": [
        "### 2. Create a function, which calculates $n$ values of $\\sin(x)$ for $0\\leq x \\leq 2\\pi$.\n",
        "\n",
        "Both $0$ and $2\\pi$ must be included and $x$ values must be equidistant. Result must be **1-dimensional**, and **will be tested against three random values for $10 \\leq n < 100 $**.\n",
        "\n",
        "Example values to be calculated for $n=3$ are:\n",
        "\n",
        "$$\\sin(0),\\sin(\\pi),\\sin(2\\pi),$$\n",
        "\n",
        "while for $n=5$ we have\n",
        "\n",
        "$$\\sin(0),\\sin(\\pi/2),\\sin(\\pi),\\sin(3\\pi/2), \\sin(2\\pi)$$.\n"
      ]
    },
    {
      "cell_type": "code",
      "execution_count": 8,
      "metadata": {
        "ExecuteTime": {
          "end_time": "2019-10-30T22:26:08.274476Z",
          "start_time": "2019-10-30T22:26:08.268426Z"
        },
        "id": "B4Ye44PymERN",
        "tags": [
          "solution"
        ]
      },
      "outputs": [],
      "source": [
        "def sin_enumerated(n):\n",
        "    # your code goes here\n",
        "    x = np.linspace(0, 2*np.pi, n)\n",
        "    return np.sin(x)"
      ]
    },
    {
      "cell_type": "code",
      "execution_count": 9,
      "metadata": {
        "ExecuteTime": {
          "end_time": "2019-10-30T22:26:08.554208Z",
          "start_time": "2019-10-30T22:26:08.542546Z"
        },
        "id": "WbjPQ4CZmERN",
        "tags": [
          "validation"
        ]
      },
      "outputs": [],
      "source": [
        "PROBLEM_ID = 2\n",
        "\n",
        "if TEST:\n",
        "    total_grade += solutions.check(STUDENT, PROBLEM_ID, sin_enumerated)"
      ]
    },
    {
      "cell_type": "code",
      "source": [
        "if not TEST:\n",
        "  print(np.linspace(0, 2*np.pi, 3))\n",
        "  print(np.linspace(0, 2*np.pi, 5))\n",
        "  print(sin_enumerated(3))\n",
        "  print(sin_enumerated(3).shape)\n",
        "  print(sin_enumerated(3).ndim)"
      ],
      "metadata": {
        "colab": {
          "base_uri": "https://localhost:8080/"
        },
        "id": "kRvMOsTS7cDK",
        "outputId": "f349bb70-0ac9-457c-e780-36e4fe3eb60a"
      },
      "execution_count": 10,
      "outputs": [
        {
          "output_type": "stream",
          "name": "stdout",
          "text": [
            "[0.         3.14159265 6.28318531]\n",
            "[0.         1.57079633 3.14159265 4.71238898 6.28318531]\n",
            "[ 0.0000000e+00  1.2246468e-16 -2.4492936e-16]\n",
            "(3,)\n",
            "1\n"
          ]
        }
      ]
    },
    {
      "cell_type": "markdown",
      "metadata": {
        "id": "yKUuQURRmERO",
        "tags": [
          "problem"
        ]
      },
      "source": [
        "### 3. Create a function, which calculates $n$ values of truncated $\\sin(x)$ for $0\\leq x \\leq 2\\pi$.\n",
        "\n",
        "Truncated $\\sin(x)$ is defined as the following:\n",
        "\n",
        "$$\n",
        "\\sin_{trunc}(x) =\n",
        "\\left\\{\n",
        "\\begin{array}{l}\n",
        "\\sin(x), \\sin(x)\\geq 0, \\\\\n",
        "0, \\sin(x) < 0.\n",
        "\\end{array}\\right.\n",
        "$$\n",
        "\n",
        "Otherwise, the requirements are the same as in Problem 2."
      ]
    },
    {
      "cell_type": "code",
      "execution_count": 11,
      "metadata": {
        "ExecuteTime": {
          "end_time": "2019-10-30T22:26:08.950073Z",
          "start_time": "2019-10-30T22:26:08.944541Z"
        },
        "id": "US5s-FwwmERO",
        "tags": [
          "solution"
        ]
      },
      "outputs": [],
      "source": [
        "def sin_truncated(n):\n",
        "    # your code goes here\n",
        "    output = sin_enumerated(n)\n",
        "    output[output < 0] = 0\n",
        "    return output"
      ]
    },
    {
      "cell_type": "code",
      "execution_count": 12,
      "metadata": {
        "ExecuteTime": {
          "end_time": "2019-10-30T22:26:09.170219Z",
          "start_time": "2019-10-30T22:26:09.158251Z"
        },
        "id": "R60mPZFPmERP",
        "tags": [
          "validation"
        ]
      },
      "outputs": [],
      "source": [
        "PROBLEM_ID = 3\n",
        "\n",
        "if TEST:\n",
        "    total_grade += solutions.check(STUDENT, PROBLEM_ID, sin_truncated)"
      ]
    },
    {
      "cell_type": "code",
      "source": [
        "if not TEST:\n",
        "  print(sin_enumerated(5))\n",
        "  print(sin_truncated(5))\n",
        "  print(sin_truncated(5).shape)\n",
        "  print(sin_truncated(5).ndim)"
      ],
      "metadata": {
        "colab": {
          "base_uri": "https://localhost:8080/"
        },
        "id": "X8Sn6W_q9otD",
        "outputId": "135b14a4-6051-416d-d52d-3bc367763732"
      },
      "execution_count": 13,
      "outputs": [
        {
          "output_type": "stream",
          "name": "stdout",
          "text": [
            "[ 0.0000000e+00  1.0000000e+00  1.2246468e-16 -1.0000000e+00\n",
            " -2.4492936e-16]\n",
            "[0.0000000e+00 1.0000000e+00 1.2246468e-16 0.0000000e+00 0.0000000e+00]\n",
            "(5,)\n",
            "1\n"
          ]
        }
      ]
    },
    {
      "cell_type": "markdown",
      "metadata": {
        "id": "DQr1NmtAmERP",
        "tags": [
          "problem"
        ]
      },
      "source": [
        "### 4. Statistics on multi-dimensional arrays.\n",
        "\n",
        "Given a 3-dimensional array `arr`, calculate mean and standard deviation along dimensions $(1,2)$.\n",
        "\n",
        "For a $N\\times M \\times K$ array `arr`, result must be a **2-dimensional** array of shape $N\\times 2$, with column `0` containing mean values and column `1` containing standard deviations. For example, $(0,0)$ element of the resulting array contains mean of `arr[0]`, while $(1,1)$ contains standard deviation of `arr[1]`.\n",
        "\n",
        "Your solution **will be tested against three random combinations of input array dimensions ($10 \\leq n < 100 $)**. Array values will be drawn from the standard normal distribution (`np.random.randn`).\n",
        "\n",
        "**Hint:** this problem may need to use some universal functions and array combination routines."
      ]
    },
    {
      "cell_type": "code",
      "execution_count": 14,
      "metadata": {
        "ExecuteTime": {
          "end_time": "2019-10-30T22:26:09.531869Z",
          "start_time": "2019-10-30T22:26:09.523705Z"
        },
        "id": "WJpjCQXMmERP",
        "tags": [
          "solution"
        ]
      },
      "outputs": [],
      "source": [
        "def array_stats(arr):\n",
        "    # your code goes here\n",
        "    means = arr.mean(axis = (1,2))\n",
        "    stds = arr.std(axis = (1,2))\n",
        "    return np.vstack([means, stds]).T"
      ]
    },
    {
      "cell_type": "code",
      "execution_count": 15,
      "metadata": {
        "ExecuteTime": {
          "end_time": "2019-10-30T22:26:09.716713Z",
          "start_time": "2019-10-30T22:26:09.707934Z"
        },
        "id": "ih-018x2mERQ",
        "tags": [
          "validation"
        ]
      },
      "outputs": [],
      "source": [
        "PROBLEM_ID = 4\n",
        "\n",
        "if TEST:\n",
        "    total_grade += solutions.check(STUDENT, PROBLEM_ID, array_stats)"
      ]
    },
    {
      "cell_type": "code",
      "source": [
        "if not TEST:\n",
        "  arr = np.ones((5,7,13))\n",
        "  print(array_stats(arr))\n",
        "  print(array_stats(arr).shape)"
      ],
      "metadata": {
        "colab": {
          "base_uri": "https://localhost:8080/"
        },
        "id": "WVjMaLKOJois",
        "outputId": "e98beb7f-3093-40dc-9aad-60c258289c5a"
      },
      "execution_count": 16,
      "outputs": [
        {
          "output_type": "stream",
          "name": "stdout",
          "text": [
            "[[1. 0.]\n",
            " [1. 0.]\n",
            " [1. 0.]\n",
            " [1. 0.]\n",
            " [1. 0.]]\n",
            "(5, 2)\n"
          ]
        }
      ]
    },
    {
      "cell_type": "markdown",
      "metadata": {
        "id": "yYhiZlMZmERQ",
        "tags": [
          "problem"
        ]
      },
      "source": [
        "### 5. Class prediction.\n",
        "\n",
        "Given a probability matrix, you need to calculate the exact class, i.e. determine, which probability is the highest for each example. For example, for the following array\n",
        "\n",
        "$$\n",
        "\\left(\n",
        "\\begin{array}{ccc}\n",
        "0.3 && 0.6 && 0.1 \\\\\n",
        "0.8 && 0.05 && 0.15\n",
        "\\end{array}\n",
        "\\right)\n",
        "$$\n",
        "\n",
        "the result must be\n",
        "\n",
        "$$\n",
        "\\left(\n",
        "\\begin{array}{c}\n",
        "1 \\\\\n",
        "0\n",
        "\\end{array}\n",
        "\\right)\n",
        "$$\n",
        "\n",
        "Each row represents an example, and each column represent a probability for corresponding class. For example, element `(0, 1)` represents the probability of example `0` being of class `1`.\n",
        "\n",
        "Note, that result must be **2-dimensional**, such that input array of shape $(N, M)$ is transformed into output array of shape $(N,1)$. Result **will be tested against three random combinations of input array dimensions ($10 \\leq n < 100 $)**. Input array elements are drawn from the standard normal distribution with $\\texttt{softmax}$ applied on top.\n",
        "\n",
        "#### $\\texttt{softmax}$\n",
        "\n",
        "$\\texttt{softmax}$ is used to represent **probabilities** and is often used as an activation function in neural networks for multi-class classification.\n",
        "\n",
        "$\\texttt{softmax}$ activation for a vector is defined as the following:\n",
        "\n",
        "$$\n",
        "\\texttt{softmax} (x_i) = \\frac{e^{x_i}}{\\sum_i e^{x_i}}.\n",
        "$$\n",
        "\n",
        "Correspondingly, a `2D` array is transformed as the following:\n",
        "\n",
        "$$\n",
        "\\texttt{softmax} (x_{ij}) = \\frac{e^{x_{ij}}}{\\sum_j e^{x_{ij}}}.\n",
        "$$\n",
        "\n",
        "\n",
        "\n",
        "For example, an input array\n",
        "\n",
        "$$\n",
        "\\left(\n",
        "\\begin{array}{cc}\n",
        "1 && 6 \\\\\n",
        "4 && 5\n",
        "\\end{array}\n",
        "\\right)\n",
        "$$\n",
        "\n",
        "results in the following $\\texttt{softmax}$ activation:\n",
        "\n",
        "$$\n",
        "\\left(\n",
        "\\begin{array}{cc}\n",
        "\\frac{e^1}{e^1 + e^6} && \\frac{e^6}{e^1 + e^6} \\\\\n",
        "\\frac{e^4}{e^4 + e^5} && \\frac{e^5}{e^4 + e^5}\n",
        "\\end{array}\n",
        "\\right)\n",
        "$$\n",
        "\n",
        "\n",
        "Result may be treated as **probabilistic predictions** of some classification model, as values sum to `1` for each row."
      ]
    },
    {
      "cell_type": "code",
      "execution_count": 17,
      "metadata": {
        "ExecuteTime": {
          "end_time": "2019-10-30T22:26:10.680534Z",
          "start_time": "2019-10-30T22:26:10.674286Z"
        },
        "id": "YwLlAf9pmERQ",
        "tags": [
          "solution"
        ]
      },
      "outputs": [],
      "source": [
        "def predict(arr):\n",
        "    # your code goes here\n",
        "    return arr.argmax(axis = 1, keepdims=True)"
      ]
    },
    {
      "cell_type": "code",
      "execution_count": 18,
      "metadata": {
        "ExecuteTime": {
          "end_time": "2019-10-30T22:26:10.881238Z",
          "start_time": "2019-10-30T22:26:10.873344Z"
        },
        "id": "5EsDAsTcmERR",
        "tags": [
          "validation"
        ]
      },
      "outputs": [],
      "source": [
        "PROBLEM_ID = 5\n",
        "\n",
        "if TEST:\n",
        "    total_grade += solutions.check(STUDENT, PROBLEM_ID, predict)"
      ]
    },
    {
      "cell_type": "code",
      "source": [
        "if not TEST:\n",
        "  arr = np.array([[0.3 , 0.6 , 0.1],\n",
        "                  [0.8 , 0.05 , 0.15]])\n",
        "  print(predict(arr))\n",
        "  print(predict(arr).shape)"
      ],
      "metadata": {
        "colab": {
          "base_uri": "https://localhost:8080/"
        },
        "id": "t2rgxQQjR6pW",
        "outputId": "604b6829-9242-4348-d0f4-3c6a976d67f9"
      },
      "execution_count": 19,
      "outputs": [
        {
          "output_type": "stream",
          "name": "stdout",
          "text": [
            "[[1]\n",
            " [0]]\n",
            "(2, 1)\n"
          ]
        }
      ]
    },
    {
      "cell_type": "markdown",
      "metadata": {
        "id": "TE6oaeqVmERR"
      },
      "source": [
        "# Intermediate arrays"
      ]
    },
    {
      "cell_type": "markdown",
      "metadata": {
        "id": "6V1LCMawmERR",
        "tags": [
          "problem"
        ]
      },
      "source": [
        "### 6. One-hot encoding.\n",
        "\n",
        "Given 1-dimensional array of class labels, construct it's one-hot encoded transformation. One-hot encoding of an array of shape $(N,)$ is defined as an array of shape $(N,L)$, such that $e_{ij}$ is $1$ if $i$-th example belongs to class $j$ and $0$ otherwise. $L$ is the number of classes.\n",
        "\n",
        "For example, array $(1,0,3,1,1,1,0)$ is transformed to\n",
        "\n",
        "$$\n",
        "\\left(\n",
        "\\begin{array}{cccc}\n",
        "0 && 1 && 0 && 0\\\\\n",
        "1 && 0 && 0 && 0\\\\\n",
        "0 && 0 && 0 && 1\\\\\n",
        "0 && 1 && 0 && 0\\\\\n",
        "0 && 1 && 0 && 0\\\\\n",
        "0 && 1 && 0 && 0\\\\\n",
        "1 && 0 && 0 && 0\n",
        "\\end{array}\n",
        "\\right)\n",
        "$$\n",
        "\n",
        "Class labels are consequtive integers, hence $L$ corresponds to the largest integer value in the input array. Note, that in the example above we do not have `2` in the input although the result is still $7\\times 4$ with column `2` containing all `0`'s.\n",
        "\n",
        "This function will be tested against three input arrays of random shape $(n,)$ ($10 \\leq n < 100 $) filled with random integers.\n",
        "\n",
        "**Hint:** you may need some fancy indexing."
      ]
    },
    {
      "cell_type": "code",
      "execution_count": 20,
      "metadata": {
        "ExecuteTime": {
          "end_time": "2019-10-30T22:26:11.485735Z",
          "start_time": "2019-10-30T22:26:11.480300Z"
        },
        "id": "SdmAdXC5mERR",
        "tags": [
          "solution"
        ]
      },
      "outputs": [],
      "source": [
        "def onehot(labels):\n",
        "    # your code goes here\n",
        "    N = labels.size\n",
        "    L = labels.max()\n",
        "\n",
        "    output = np.zeros((N, L + 1))\n",
        "\n",
        "    output[np.arange(N), labels] = 1\n",
        "\n",
        "    return output"
      ]
    },
    {
      "cell_type": "code",
      "execution_count": 21,
      "metadata": {
        "ExecuteTime": {
          "end_time": "2019-10-30T22:26:11.681172Z",
          "start_time": "2019-10-30T22:26:11.675846Z"
        },
        "id": "jtXUccYgmERS",
        "tags": [
          "validation"
        ]
      },
      "outputs": [],
      "source": [
        "PROBLEM_ID = 6\n",
        "\n",
        "if TEST:\n",
        "    total_grade += solutions.check(STUDENT, PROBLEM_ID, onehot)"
      ]
    },
    {
      "cell_type": "code",
      "source": [
        "if not TEST:\n",
        "  print(onehot(np.array([1,0,3,1,1,1,0])))\n",
        "  print(onehot(np.array([1,0,3,1,1,1,0])).shape)"
      ],
      "metadata": {
        "colab": {
          "base_uri": "https://localhost:8080/"
        },
        "id": "hQmDxT79VGhQ",
        "outputId": "11027831-7318-45e4-dca3-d4f9e7f9e61b"
      },
      "execution_count": 22,
      "outputs": [
        {
          "output_type": "stream",
          "name": "stdout",
          "text": [
            "[[0. 1. 0. 0.]\n",
            " [1. 0. 0. 0.]\n",
            " [0. 0. 0. 1.]\n",
            " [0. 1. 0. 0.]\n",
            " [0. 1. 0. 0.]\n",
            " [0. 1. 0. 0.]\n",
            " [1. 0. 0. 0.]]\n",
            "(7, 4)\n"
          ]
        }
      ]
    },
    {
      "cell_type": "markdown",
      "metadata": {
        "id": "KtwMWrWqmERS",
        "tags": [
          "problem"
        ]
      },
      "source": [
        "### 7. Fixing missing values.\n",
        "\n",
        "Given an array, which contains some $NaN$s (not-a-number, represented as `np.nan`), positive and negative infinities (represented as `np.inf`), contruct a \"repaired\" version of that array. All missing or broken values must be replaced by average of valid elements of an array.\n",
        "\n",
        "For example, array $(0., np.nan, 2., np.inf)$ must be transformed to $(0., 1., 2., 1.)$.\n",
        "\n",
        "Input arrays will be drawn from standard normal distribution, with small fraction of values transformed to either `np.nan`, `np.inf` or `-np.inf`.\n",
        "\n",
        "**Hint:** you will need some masking to achieve the goal, as well as `np.isnan` and `np.isinf`."
      ]
    },
    {
      "cell_type": "code",
      "execution_count": 48,
      "metadata": {
        "ExecuteTime": {
          "end_time": "2019-10-30T22:26:12.413494Z",
          "start_time": "2019-10-30T22:26:12.408306Z"
        },
        "id": "NpJYpNZWmERS",
        "tags": [
          "solution"
        ]
      },
      "outputs": [],
      "source": [
        "def fix(arr):\n",
        "    # your code goes here\n",
        "    invalids_mask = np.isnan(arr) | np.isinf(arr)\n",
        "    valids_mean = arr[~invalids_mask].mean()\n",
        "\n",
        "    repaired_arr = arr.copy()\n",
        "    repaired_arr[invalids_mask] = valids_mean\n",
        "\n",
        "    return repaired_arr"
      ]
    },
    {
      "cell_type": "code",
      "execution_count": 49,
      "metadata": {
        "ExecuteTime": {
          "end_time": "2019-10-30T22:26:12.602616Z",
          "start_time": "2019-10-30T22:26:12.596587Z"
        },
        "id": "s_uic2NCmERS",
        "tags": [
          "validation"
        ]
      },
      "outputs": [],
      "source": [
        "PROBLEM_ID = 7\n",
        "\n",
        "if TEST:\n",
        "    total_grade += solutions.check(STUDENT, PROBLEM_ID, fix)"
      ]
    },
    {
      "cell_type": "code",
      "source": [
        "if not TEST:\n",
        "  print(fix(np.array([0., np.nan, 2., np.inf])))"
      ],
      "metadata": {
        "id": "gCfz6rwfHJ7s",
        "outputId": "591cf97c-3d66-4564-fa18-9ed6d0813f64",
        "colab": {
          "base_uri": "https://localhost:8080/"
        }
      },
      "execution_count": 50,
      "outputs": [
        {
          "output_type": "stream",
          "name": "stdout",
          "text": [
            "[0. 1. 2. 1.]\n"
          ]
        }
      ]
    },
    {
      "cell_type": "markdown",
      "metadata": {
        "id": "A-urRlnlmERS",
        "tags": [
          "problem"
        ]
      },
      "source": [
        "### 8. Calculate class distribution.\n",
        "\n",
        "Given 1-dimensional array of class labels, calculate occurrence of each class.\n",
        "\n",
        "For example, array $(1,0,3,1,1,1,0)$ is transformed to $(2/7, 4/7, 0, 1/7)$. Class labels are consequtive integers, in the same way as in Problem 7 (note, that class `2` is not present in the input array, but it's occurence, although `0`, is included in the output).\n",
        "\n",
        "Note the ordering and consider using one-hot representation to calculate class counts."
      ]
    },
    {
      "cell_type": "code",
      "execution_count": null,
      "metadata": {
        "ExecuteTime": {
          "end_time": "2019-10-30T22:26:13.015372Z",
          "start_time": "2019-10-30T22:26:13.008340Z"
        },
        "id": "4wmolKSimERT",
        "tags": [
          "solution"
        ]
      },
      "outputs": [],
      "source": [
        "def class_freq(labels):\n",
        "    # your code goes here\n",
        "    pass"
      ]
    },
    {
      "cell_type": "code",
      "execution_count": null,
      "metadata": {
        "ExecuteTime": {
          "end_time": "2019-10-30T22:26:13.218968Z",
          "start_time": "2019-10-30T22:26:13.214080Z"
        },
        "id": "QPoKdI3emERT",
        "tags": [
          "validation"
        ]
      },
      "outputs": [],
      "source": [
        "PROBLEM_ID = 8\n",
        "\n",
        "if TEST:\n",
        "    total_grade += solutions.check(STUDENT, PROBLEM_ID, class_freq)"
      ]
    },
    {
      "cell_type": "markdown",
      "metadata": {
        "tags": [
          "problem"
        ],
        "id": "KeWMUKb4O0kR"
      },
      "source": [
        "### 9. Check for diagonal matrix.\n",
        "\n",
        "In linear algebra, a **diagonal matrix** is a matrix in which the entries outside the main diagonal are all zero; the term usually refers to square matrices.\n",
        "\n",
        "Implement a boolean function that gets a numpy array/matrix and returns True if it's diagonal and False if it isn't.\n",
        "\n",
        "Non-square matrices should always return False. Don't use `numpy.diagonal` and `numpy.diag`"
      ]
    },
    {
      "cell_type": "code",
      "execution_count": null,
      "metadata": {
        "ExecuteTime": {
          "end_time": "2019-10-30T22:26:13.015372Z",
          "start_time": "2019-10-30T22:26:13.008340Z"
        },
        "tags": [
          "solution"
        ],
        "id": "zTFetBE3O0kR"
      },
      "outputs": [],
      "source": [
        "def diagonal(matrix):\n",
        "    # your code goes here\n",
        "    pass"
      ]
    },
    {
      "cell_type": "code",
      "execution_count": null,
      "metadata": {
        "ExecuteTime": {
          "end_time": "2019-10-30T22:26:13.218968Z",
          "start_time": "2019-10-30T22:26:13.214080Z"
        },
        "tags": [
          "validation"
        ],
        "id": "xxWPDhJkO0kR"
      },
      "outputs": [],
      "source": [
        "PROBLEM_ID = 9\n",
        "\n",
        "if TEST:\n",
        "    total_grade += solutions.check(STUDENT, PROBLEM_ID, diagonal)"
      ]
    },
    {
      "cell_type": "markdown",
      "metadata": {
        "tags": [
          "problem"
        ],
        "id": "Y3vTqU7mO0kR"
      },
      "source": [
        "### 10. Efficient Matrix power function.\n",
        "\n",
        "Implement an efficient matrix power function. The function receives a square diagonizable matrix and a power and returns that matrix raised to that power.\n",
        "\n",
        "You need to implement it from scratch using eigenvectors and diagonal matrix power.\n",
        "You can refer to an example is in Linear Algebra notebook.\\\n",
        "Remember that any diagonizable matrix (a matrix that has a full set of linearly independent eigenvectors) can be decomposed as:\n",
        "    \n",
        "$$\n",
        "s = VEV^{-1}\n",
        "$$\n",
        "\n",
        "where $E$ is a diagonal matrix (with eigenvalues on main diagonal), and $V$ is a matrix where columns are eigenvectors.\n",
        "\n",
        "Diagonal mareix $E$ can be easily raised into any power, by raising it's individual elements into that power.\n",
        "\n",
        "Don't implement it by multiplying the matrix by itself many times or by using `numpy.linalg.matrix_power`"
      ]
    },
    {
      "cell_type": "code",
      "execution_count": null,
      "metadata": {
        "ExecuteTime": {
          "end_time": "2019-10-30T22:26:13.015372Z",
          "start_time": "2019-10-30T22:26:13.008340Z"
        },
        "tags": [
          "solution"
        ],
        "id": "S0psY2TTO0kS"
      },
      "outputs": [],
      "source": [
        "def mat_power(matrix, power):\n",
        "    # your code goes here\n",
        "    pass"
      ]
    },
    {
      "cell_type": "code",
      "execution_count": null,
      "metadata": {
        "ExecuteTime": {
          "end_time": "2019-10-30T22:26:13.218968Z",
          "start_time": "2019-10-30T22:26:13.214080Z"
        },
        "tags": [
          "validation"
        ],
        "id": "r8aRO6lfO0kS"
      },
      "outputs": [],
      "source": [
        "PROBLEM_ID = 10\n",
        "\n",
        "if TEST:\n",
        "    total_grade += solutions.check(STUDENT, PROBLEM_ID, mat_power)"
      ]
    },
    {
      "cell_type": "markdown",
      "metadata": {
        "id": "RF76VgfnmERT"
      },
      "source": [
        "# Your grade"
      ]
    },
    {
      "cell_type": "code",
      "execution_count": null,
      "metadata": {
        "ExecuteTime": {
          "end_time": "2019-10-30T22:39:26.661611Z",
          "start_time": "2019-10-30T22:39:26.654545Z"
        },
        "id": "StdvWFaOmERT",
        "tags": [
          "validation"
        ]
      },
      "outputs": [],
      "source": [
        "if TEST:\n",
        "    print(f\"{STUDENT}: {int(100 * total_grade / MAX_POINTS)}\")"
      ]
    }
  ],
  "metadata": {
    "@webio": {
      "lastCommId": null,
      "lastKernelId": null
    },
    "celltoolbar": "Tags",
    "colab": {
      "provenance": []
    },
    "kernelspec": {
      "display_name": "Python 3 (ipykernel)",
      "language": "python",
      "name": "python3"
    },
    "language_info": {
      "codemirror_mode": {
        "name": "ipython",
        "version": 3
      },
      "file_extension": ".py",
      "mimetype": "text/x-python",
      "name": "python",
      "nbconvert_exporter": "python",
      "pygments_lexer": "ipython3",
      "version": "3.8.8"
    },
    "toc-showtags": true
  },
  "nbformat": 4,
  "nbformat_minor": 0
}
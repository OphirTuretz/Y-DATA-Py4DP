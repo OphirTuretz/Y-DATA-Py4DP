{
  "cells": [
    {
      "cell_type": "markdown",
      "metadata": {
        "id": "K1iQrBFmmERB",
        "tags": [
          "intro"
        ]
      },
      "source": [
        "# Grading process\n",
        "\n",
        "\n",
        "All assignments should be submitted in pairs. Only one member of a pair should submit the assignment. If you don't have a pair yet, you can submit individually (this assignment only). The submission notebook will be automatically validated with Papermill.\n",
        "\n",
        "Papermill will inject new cell after each cell tagged as `parameters` (see `View > Cell toolbar > Tags`). Notebook will be executed from top to bottom in a linear order.\n",
        "\n",
        "Please, **fill `STUDENT` variable with your name**, so that we can collect the results automatically. Please, do not change `parameters` (specifically, **do not change `TEST` variable**) and `validation` cells for grader to work correctly. You can, though, use the following clauses to wrap your code outside of `solution` cells:\n",
        "\n",
        "```python\n",
        "if not TEST:\n",
        "    <some code >\n",
        "```\n",
        "\n",
        "Each problem contains specific validation details. You need to fill each cell tagged `solution` with your code. Note, that solution function must be self-contained, i.e. it must not use any state from the notebook itself.\n",
        "\n",
        "Different problems result in different number of points. All problems in the basic section give 1 point, while all problems in intermediate section give 2 points. Total number of points are then divided by maximum number of points (11 in this assignment) and multiplied by 100 to get your final grade (0-100).\n",
        "\n",
        "You may find the following NumPy functions useful:\n",
        "\n",
        "- reduction functions: `np.mean`, `np.std`, `np.max`,\n",
        "- array creation functions: `np.zeros`, `np.arange`, `np.linspace`,\n",
        "- element-wise functions: `np.sin`, `np.isfinite`, `np.clip`,\n",
        "- other functions: `np.argmax`, `np.unique`, `np.column_stack`."
      ]
    },
    {
      "cell_type": "code",
      "execution_count": null,
      "metadata": {
        "ExecuteTime": {
          "end_time": "2019-10-30T22:26:04.111972Z",
          "start_time": "2019-10-30T22:26:04.107385Z"
        },
        "id": "XfsDdN2FmERG"
      },
      "outputs": [],
      "source": [
        "import numpy as np"
      ]
    },
    {
      "cell_type": "code",
      "execution_count": null,
      "metadata": {
        "ExecuteTime": {
          "end_time": "2019-10-30T22:26:04.372936Z",
          "start_time": "2019-10-30T22:26:04.364608Z"
        },
        "id": "-ofFxNpfmERI"
      },
      "outputs": [],
      "source": [
        "STUDENT = \"Kosta Rozen\" # use your name here"
      ]
    },
    {
      "cell_type": "code",
      "execution_count": null,
      "metadata": {
        "id": "XvdwbZDVmERI",
        "tags": [
          "parameters"
        ]
      },
      "outputs": [],
      "source": [
        "ASSIGNMENT = 1\n",
        "TEST = False"
      ]
    },
    {
      "cell_type": "code",
      "execution_count": null,
      "metadata": {
        "ExecuteTime": {
          "end_time": "2019-10-30T22:39:38.188583Z",
          "start_time": "2019-10-30T22:39:38.182534Z"
        },
        "id": "kQLXGZQJmERJ"
      },
      "outputs": [],
      "source": [
        "if TEST:\n",
        "    import solutions\n",
        "    total_grade = 0\n",
        "    MAX_POINTS = 11"
      ]
    },
    {
      "cell_type": "markdown",
      "metadata": {
        "id": "V1kfrMO-mERJ"
      },
      "source": [
        "# Basic arrays\n",
        "\n",
        "Problems 1, 2 and 3 cover the correct usage of `np.arange` (or `np.linspace` for that matter), basic masking and vectorized functions (like calculating `sin` of each element of an array in a vectorized manner)."
      ]
    },
    {
      "cell_type": "markdown",
      "metadata": {
        "id": "Ch_t4vhemERK",
        "tags": [
          "problem"
        ]
      },
      "source": [
        "### 1. Calculate $\\sin(x)$ for $0\\leq x < 2\\pi$ with a step of $0.1$.\n",
        "\n",
        "You need to implement a function, which calculates the required array. The exact values of $x$ are $[0, 0.1, 0.2,\\ldots,6.2]$.\n",
        "\n",
        "Result must be **1-dimensional**, and **will be tested against precomputed values**.\n",
        "\n",
        "Note, that `numpy` provides [constants](https://docs.scipy.org/doc/numpy-1.15.0/reference/constants.html), you can take $\\pi$ from there."
      ]
    },
    {
      "cell_type": "code",
      "execution_count": null,
      "metadata": {
        "ExecuteTime": {
          "end_time": "2019-10-30T22:26:07.100307Z",
          "start_time": "2019-10-30T22:26:07.092132Z"
        },
        "id": "IW5XyaSjmERK",
        "tags": [
          "solution"
        ]
      },
      "outputs": [],
      "source": [
        "def sin_basic():\n",
        "    # your code goes here\n",
        "    pass"
      ]
    },
    {
      "cell_type": "code",
      "execution_count": null,
      "metadata": {
        "ExecuteTime": {
          "end_time": "2019-10-30T22:26:07.334174Z",
          "start_time": "2019-10-30T22:26:07.322103Z"
        },
        "id": "Fden4oaTmERL",
        "tags": [
          "validation"
        ]
      },
      "outputs": [],
      "source": [
        "PROBLEM_ID = 1\n",
        "\n",
        "if TEST:\n",
        "    total_grade += solutions.check(STUDENT, PROBLEM_ID, sin_basic)"
      ]
    },
    {
      "cell_type": "markdown",
      "metadata": {
        "id": "y54zqA-XmERM",
        "tags": [
          "problem"
        ]
      },
      "source": [
        "### 2. Create a function, which calculates $n$ values of $\\sin(x)$ for $0\\leq x \\leq 2\\pi$.\n",
        "\n",
        "Both $0$ and $2\\pi$ must be included and $x$ values must be equidistant. Result must be **1-dimensional**, and **will be tested against three random values for $10 \\leq n < 100 $**.\n",
        "\n",
        "Example values to be calculated for $n=3$ are:\n",
        "\n",
        "$$\\sin(0),\\sin(\\pi),\\sin(2\\pi),$$\n",
        "\n",
        "while for $n=5$ we have\n",
        "\n",
        "$$\\sin(0),\\sin(\\pi/2),\\sin(\\pi),\\sin(3\\pi/2), \\sin(2\\pi)$$.\n"
      ]
    },
    {
      "cell_type": "code",
      "execution_count": null,
      "metadata": {
        "ExecuteTime": {
          "end_time": "2019-10-30T22:26:08.274476Z",
          "start_time": "2019-10-30T22:26:08.268426Z"
        },
        "id": "B4Ye44PymERN",
        "tags": [
          "solution"
        ]
      },
      "outputs": [],
      "source": [
        "def sin_enumerated(n):\n",
        "    # your code goes here\n",
        "    pass"
      ]
    },
    {
      "cell_type": "code",
      "execution_count": null,
      "metadata": {
        "ExecuteTime": {
          "end_time": "2019-10-30T22:26:08.554208Z",
          "start_time": "2019-10-30T22:26:08.542546Z"
        },
        "id": "WbjPQ4CZmERN",
        "tags": [
          "validation"
        ]
      },
      "outputs": [],
      "source": [
        "PROBLEM_ID = 2\n",
        "\n",
        "if TEST:\n",
        "    total_grade += solutions.check(STUDENT, PROBLEM_ID, sin_enumerated)"
      ]
    },
    {
      "cell_type": "markdown",
      "metadata": {
        "id": "yKUuQURRmERO",
        "tags": [
          "problem"
        ]
      },
      "source": [
        "### 3. Create a function, which calculates $n$ values of truncated $\\sin(x)$ for $0\\leq x \\leq 2\\pi$.\n",
        "\n",
        "Truncated $\\sin(x)$ is defined as the following:\n",
        "\n",
        "$$\n",
        "\\sin_{trunc}(x) =\n",
        "\\left\\{\n",
        "\\begin{array}{l}\n",
        "\\sin(x), \\sin(x)\\geq 0, \\\\\n",
        "0, \\sin(x) < 0.\n",
        "\\end{array}\\right.\n",
        "$$\n",
        "\n",
        "Otherwise, the requirements are the same as in Problem 2."
      ]
    },
    {
      "cell_type": "code",
      "execution_count": null,
      "metadata": {
        "ExecuteTime": {
          "end_time": "2019-10-30T22:26:08.950073Z",
          "start_time": "2019-10-30T22:26:08.944541Z"
        },
        "id": "US5s-FwwmERO",
        "tags": [
          "solution"
        ]
      },
      "outputs": [],
      "source": [
        "def sin_truncated(n):\n",
        "    # your code goes here\n",
        "    pass"
      ]
    },
    {
      "cell_type": "code",
      "execution_count": null,
      "metadata": {
        "ExecuteTime": {
          "end_time": "2019-10-30T22:26:09.170219Z",
          "start_time": "2019-10-30T22:26:09.158251Z"
        },
        "id": "R60mPZFPmERP",
        "tags": [
          "validation"
        ]
      },
      "outputs": [],
      "source": [
        "PROBLEM_ID = 3\n",
        "\n",
        "if TEST:\n",
        "    total_grade += solutions.check(STUDENT, PROBLEM_ID, sin_truncated)"
      ]
    },
    {
      "cell_type": "markdown",
      "metadata": {
        "id": "DQr1NmtAmERP",
        "tags": [
          "problem"
        ]
      },
      "source": [
        "### 4. Statistics on multi-dimensional arrays.\n",
        "\n",
        "Given a 3-dimensional array `arr`, calculate mean and standard deviation along dimensions $(1,2)$.\n",
        "\n",
        "For a $N\\times M \\times K$ array `arr`, result must be a **2-dimensional** array of shape $N\\times 2$, with column `0` containing mean values and column `1` containing standard deviations. For example, $(0,0)$ element of the resulting array contains mean of `arr[0]`, while $(1,1)$ contains standard deviation of `arr[1]`.\n",
        "\n",
        "Your solution **will be tested against three random combinations of input array dimensions ($10 \\leq n < 100 $)**. Array values will be drawn from the standard normal distribution (`np.random.randn`).\n",
        "\n",
        "**Hint:** this problem may need to use some universal functions and array combination routines."
      ]
    },
    {
      "cell_type": "code",
      "execution_count": null,
      "metadata": {
        "ExecuteTime": {
          "end_time": "2019-10-30T22:26:09.531869Z",
          "start_time": "2019-10-30T22:26:09.523705Z"
        },
        "id": "WJpjCQXMmERP",
        "tags": [
          "solution"
        ]
      },
      "outputs": [],
      "source": [
        "def array_stats(arr):\n",
        "    # your code goes here\n",
        "    pass"
      ]
    },
    {
      "cell_type": "code",
      "execution_count": null,
      "metadata": {
        "ExecuteTime": {
          "end_time": "2019-10-30T22:26:09.716713Z",
          "start_time": "2019-10-30T22:26:09.707934Z"
        },
        "id": "ih-018x2mERQ",
        "tags": [
          "validation"
        ]
      },
      "outputs": [],
      "source": [
        "PROBLEM_ID = 4\n",
        "\n",
        "if TEST:\n",
        "    total_grade += solutions.check(STUDENT, PROBLEM_ID, array_stats)"
      ]
    },
    {
      "cell_type": "markdown",
      "metadata": {
        "id": "yYhiZlMZmERQ",
        "tags": [
          "problem"
        ]
      },
      "source": [
        "### 5. Class prediction.\n",
        "\n",
        "Given a probability matrix, you need to calculate the exact class, i.e. determine, which probability is the highest for each example. For example, for the following array\n",
        "\n",
        "$$\n",
        "\\left(\n",
        "\\begin{array}{ccc}\n",
        "0.3 && 0.6 && 0.1 \\\\\n",
        "0.8 && 0.05 && 0.15\n",
        "\\end{array}\n",
        "\\right)\n",
        "$$\n",
        "\n",
        "the result must be\n",
        "\n",
        "$$\n",
        "\\left(\n",
        "\\begin{array}{c}\n",
        "1 \\\\\n",
        "0\n",
        "\\end{array}\n",
        "\\right)\n",
        "$$\n",
        "\n",
        "Each row represents an example, and each column represent a probability for corresponding class. For example, element `(0, 1)` represents the probability of example `0` being of class `1`.\n",
        "\n",
        "Note, that result must be **2-dimensional**, such that input array of shape $(N, M)$ is transformed into output array of shape $(N,1)$. Result **will be tested against three random combinations of input array dimensions ($10 \\leq n < 100 $)**. Input array elements are drawn from the standard normal distribution with $\\texttt{softmax}$ applied on top.\n",
        "\n",
        "#### $\\texttt{softmax}$\n",
        "\n",
        "$\\texttt{softmax}$ is used to represent **probabilities** and is often used as an activation function in neural networks for multi-class classification.\n",
        "\n",
        "$\\texttt{softmax}$ activation for a vector is defined as the following:\n",
        "\n",
        "$$\n",
        "\\texttt{softmax} (x_i) = \\frac{e^{x_i}}{\\sum_i e^{x_i}}.\n",
        "$$\n",
        "\n",
        "Correspondingly, a `2D` array is transformed as the following:\n",
        "\n",
        "$$\n",
        "\\texttt{softmax} (x_{ij}) = \\frac{e^{x_{ij}}}{\\sum_j e^{x_{ij}}}.\n",
        "$$\n",
        "\n",
        "\n",
        "\n",
        "For example, an input array\n",
        "\n",
        "$$\n",
        "\\left(\n",
        "\\begin{array}{cc}\n",
        "1 && 6 \\\\\n",
        "4 && 5\n",
        "\\end{array}\n",
        "\\right)\n",
        "$$\n",
        "\n",
        "results in the following $\\texttt{softmax}$ activation:\n",
        "\n",
        "$$\n",
        "\\left(\n",
        "\\begin{array}{cc}\n",
        "\\frac{e^1}{e^1 + e^6} && \\frac{e^6}{e^1 + e^6} \\\\\n",
        "\\frac{e^4}{e^4 + e^5} && \\frac{e^5}{e^4 + e^5}\n",
        "\\end{array}\n",
        "\\right)\n",
        "$$\n",
        "\n",
        "\n",
        "Result may be treated as **probabilistic predictions** of some classification model, as values sum to `1` for each row."
      ]
    },
    {
      "cell_type": "code",
      "execution_count": null,
      "metadata": {
        "ExecuteTime": {
          "end_time": "2019-10-30T22:26:10.680534Z",
          "start_time": "2019-10-30T22:26:10.674286Z"
        },
        "id": "YwLlAf9pmERQ",
        "tags": [
          "solution"
        ]
      },
      "outputs": [],
      "source": [
        "def predict(arr):\n",
        "    # your code goes here\n",
        "    pass"
      ]
    },
    {
      "cell_type": "code",
      "execution_count": null,
      "metadata": {
        "ExecuteTime": {
          "end_time": "2019-10-30T22:26:10.881238Z",
          "start_time": "2019-10-30T22:26:10.873344Z"
        },
        "id": "5EsDAsTcmERR",
        "tags": [
          "validation"
        ]
      },
      "outputs": [],
      "source": [
        "PROBLEM_ID = 5\n",
        "\n",
        "if TEST:\n",
        "    total_grade += solutions.check(STUDENT, PROBLEM_ID, predict)"
      ]
    },
    {
      "cell_type": "markdown",
      "metadata": {
        "id": "TE6oaeqVmERR"
      },
      "source": [
        "# Intermediate arrays"
      ]
    },
    {
      "cell_type": "markdown",
      "metadata": {
        "id": "6V1LCMawmERR",
        "tags": [
          "problem"
        ]
      },
      "source": [
        "### 6. One-hot encoding.\n",
        "\n",
        "Given 1-dimensional array of class labels, construct it's one-hot encoded transformation. One-hot encoding of an array of shape $(N,)$ is defined as an array of shape $(N,L)$, such that $e_{ij}$ is $1$ if $i$-th example belongs to class $j$ and $0$ otherwise. $L$ is the number of classes.\n",
        "\n",
        "For example, array $(1,0,3,1,1,1,0)$ is transformed to\n",
        "\n",
        "$$\n",
        "\\left(\n",
        "\\begin{array}{cccc}\n",
        "0 && 1 && 0 && 0\\\\\n",
        "1 && 0 && 0 && 0\\\\\n",
        "0 && 0 && 0 && 1\\\\\n",
        "0 && 1 && 0 && 0\\\\\n",
        "0 && 1 && 0 && 0\\\\\n",
        "0 && 1 && 0 && 0\\\\\n",
        "1 && 0 && 0 && 0\n",
        "\\end{array}\n",
        "\\right)\n",
        "$$\n",
        "\n",
        "Class labels are consequtive integers, hence $L$ corresponds to the largest integer value in the input array. Note, that in the example above we do not have `2` in the input although the result is still $7\\times 4$ with column `2` containing all `0`'s.\n",
        "\n",
        "This function will be tested against three input arrays of random shape $(n,)$ ($10 \\leq n < 100 $) filled with random integers.\n",
        "\n",
        "**Hint:** you may need some fancy indexing."
      ]
    },
    {
      "cell_type": "code",
      "execution_count": null,
      "metadata": {
        "ExecuteTime": {
          "end_time": "2019-10-30T22:26:11.485735Z",
          "start_time": "2019-10-30T22:26:11.480300Z"
        },
        "id": "SdmAdXC5mERR",
        "tags": [
          "solution"
        ]
      },
      "outputs": [],
      "source": [
        "def onehot(labels):\n",
        "    # your code goes here\n",
        "    pass"
      ]
    },
    {
      "cell_type": "code",
      "execution_count": null,
      "metadata": {
        "ExecuteTime": {
          "end_time": "2019-10-30T22:26:11.681172Z",
          "start_time": "2019-10-30T22:26:11.675846Z"
        },
        "id": "jtXUccYgmERS",
        "tags": [
          "validation"
        ]
      },
      "outputs": [],
      "source": [
        "PROBLEM_ID = 6\n",
        "\n",
        "if TEST:\n",
        "    total_grade += solutions.check(STUDENT, PROBLEM_ID, onehot)"
      ]
    },
    {
      "cell_type": "markdown",
      "metadata": {
        "id": "KtwMWrWqmERS",
        "tags": [
          "problem"
        ]
      },
      "source": [
        "### 7. Fixing missing values.\n",
        "\n",
        "Given an array, which contains some $NaN$s (not-a-number, represented as `np.nan`), positive and negative infinities (represented as `np.inf`), contruct a \"repaired\" version of that array. All missing or broken values must be replaced by average of valid elements of an array.\n",
        "\n",
        "For example, array $(0., np.nan, 2., np.inf)$ must be transformed to $(0., 1., 2., 1.)$.\n",
        "\n",
        "Input arrays will be drawn from standard normal distribution, with small fraction of values transformed to either `np.nan`, `np.inf` or `-np.inf`.\n",
        "\n",
        "**Hint:** you will need some masking to achieve the goal, as well as `np.isnan` and `np.isinf`."
      ]
    },
    {
      "cell_type": "code",
      "execution_count": null,
      "metadata": {
        "ExecuteTime": {
          "end_time": "2019-10-30T22:26:12.413494Z",
          "start_time": "2019-10-30T22:26:12.408306Z"
        },
        "id": "NpJYpNZWmERS",
        "tags": [
          "solution"
        ]
      },
      "outputs": [],
      "source": [
        "def fix(arr):\n",
        "    # your code goes here\n",
        "    pass"
      ]
    },
    {
      "cell_type": "code",
      "execution_count": null,
      "metadata": {
        "ExecuteTime": {
          "end_time": "2019-10-30T22:26:12.602616Z",
          "start_time": "2019-10-30T22:26:12.596587Z"
        },
        "id": "s_uic2NCmERS",
        "tags": [
          "validation"
        ]
      },
      "outputs": [],
      "source": [
        "PROBLEM_ID = 7\n",
        "\n",
        "if TEST:\n",
        "    total_grade += solutions.check(STUDENT, PROBLEM_ID, fix)"
      ]
    },
    {
      "cell_type": "markdown",
      "metadata": {
        "id": "A-urRlnlmERS",
        "tags": [
          "problem"
        ]
      },
      "source": [
        "### 8. Calculate class distribution.\n",
        "\n",
        "Given 1-dimensional array of class labels, calculate occurrence of each class.\n",
        "\n",
        "For example, array $(1,0,3,1,1,1,0)$ is transformed to $(2/7, 4/7, 0, 1/7)$. Class labels are consequtive integers, in the same way as in Problem 7 (note, that class `2` is not present in the input array, but it's occurence, although `0`, is included in the output).\n",
        "\n",
        "Note the ordering and consider using one-hot representation to calculate class counts."
      ]
    },
    {
      "cell_type": "code",
      "execution_count": null,
      "metadata": {
        "ExecuteTime": {
          "end_time": "2019-10-30T22:26:13.015372Z",
          "start_time": "2019-10-30T22:26:13.008340Z"
        },
        "id": "4wmolKSimERT",
        "tags": [
          "solution"
        ]
      },
      "outputs": [],
      "source": [
        "def class_freq(labels):\n",
        "    # your code goes here\n",
        "    pass"
      ]
    },
    {
      "cell_type": "code",
      "execution_count": null,
      "metadata": {
        "ExecuteTime": {
          "end_time": "2019-10-30T22:26:13.218968Z",
          "start_time": "2019-10-30T22:26:13.214080Z"
        },
        "id": "QPoKdI3emERT",
        "tags": [
          "validation"
        ]
      },
      "outputs": [],
      "source": [
        "PROBLEM_ID = 8\n",
        "\n",
        "if TEST:\n",
        "    total_grade += solutions.check(STUDENT, PROBLEM_ID, class_freq)"
      ]
    },
    {
      "cell_type": "markdown",
      "metadata": {
        "tags": [
          "problem"
        ],
        "id": "KeWMUKb4O0kR"
      },
      "source": [
        "### 9. Check for diagonal matrix.\n",
        "\n",
        "In linear algebra, a **diagonal matrix** is a matrix in which the entries outside the main diagonal are all zero; the term usually refers to square matrices.\n",
        "\n",
        "Implement a boolean function that gets a numpy array/matrix and returns True if it's diagonal and False if it isn't.\n",
        "\n",
        "Non-square matrices should always return False. Don't use `numpy.diagonal` and `numpy.diag`"
      ]
    },
    {
      "cell_type": "code",
      "execution_count": null,
      "metadata": {
        "ExecuteTime": {
          "end_time": "2019-10-30T22:26:13.015372Z",
          "start_time": "2019-10-30T22:26:13.008340Z"
        },
        "tags": [
          "solution"
        ],
        "id": "zTFetBE3O0kR"
      },
      "outputs": [],
      "source": [
        "def diagonal(matrix):\n",
        "    # your code goes here\n",
        "    pass"
      ]
    },
    {
      "cell_type": "code",
      "execution_count": null,
      "metadata": {
        "ExecuteTime": {
          "end_time": "2019-10-30T22:26:13.218968Z",
          "start_time": "2019-10-30T22:26:13.214080Z"
        },
        "tags": [
          "validation"
        ],
        "id": "xxWPDhJkO0kR"
      },
      "outputs": [],
      "source": [
        "PROBLEM_ID = 9\n",
        "\n",
        "if TEST:\n",
        "    total_grade += solutions.check(STUDENT, PROBLEM_ID, diagonal)"
      ]
    },
    {
      "cell_type": "markdown",
      "metadata": {
        "tags": [
          "problem"
        ],
        "id": "Y3vTqU7mO0kR"
      },
      "source": [
        "### 10. Efficient Matrix power function.\n",
        "\n",
        "Implement an efficient matrix power function. The function receives a square diagonizable matrix and a power and returns that matrix raised to that power.\n",
        "\n",
        "You need to implement it from scratch using eigenvectors and diagonal matrix power.\n",
        "You can refer to an example is in Linear Algebra notebook.\\\n",
        "Remember that any diagonizable matrix (a matrix that has a full set of linearly independent eigenvectors) can be decomposed as:\n",
        "    \n",
        "$$\n",
        "s = VEV^{-1}\n",
        "$$\n",
        "\n",
        "where $E$ is a diagonal matrix (with eigenvalues on main diagonal), and $V$ is a matrix where columns are eigenvectors.\n",
        "\n",
        "Diagonal mareix $E$ can be easily raised into any power, by raising it's individual elements into that power.\n",
        "\n",
        "Don't implement it by multiplying the matrix by itself many times or by using `numpy.linalg.matrix_power`"
      ]
    },
    {
      "cell_type": "code",
      "execution_count": null,
      "metadata": {
        "ExecuteTime": {
          "end_time": "2019-10-30T22:26:13.015372Z",
          "start_time": "2019-10-30T22:26:13.008340Z"
        },
        "tags": [
          "solution"
        ],
        "id": "S0psY2TTO0kS"
      },
      "outputs": [],
      "source": [
        "def mat_power(matrix, power):\n",
        "    # your code goes here\n",
        "    pass"
      ]
    },
    {
      "cell_type": "code",
      "execution_count": null,
      "metadata": {
        "ExecuteTime": {
          "end_time": "2019-10-30T22:26:13.218968Z",
          "start_time": "2019-10-30T22:26:13.214080Z"
        },
        "tags": [
          "validation"
        ],
        "id": "r8aRO6lfO0kS"
      },
      "outputs": [],
      "source": [
        "PROBLEM_ID = 10\n",
        "\n",
        "if TEST:\n",
        "    total_grade += solutions.check(STUDENT, PROBLEM_ID, mat_power)"
      ]
    },
    {
      "cell_type": "markdown",
      "metadata": {
        "id": "RF76VgfnmERT"
      },
      "source": [
        "# Your grade"
      ]
    },
    {
      "cell_type": "code",
      "execution_count": null,
      "metadata": {
        "ExecuteTime": {
          "end_time": "2019-10-30T22:39:26.661611Z",
          "start_time": "2019-10-30T22:39:26.654545Z"
        },
        "id": "StdvWFaOmERT",
        "tags": [
          "validation"
        ]
      },
      "outputs": [],
      "source": [
        "if TEST:\n",
        "    print(f\"{STUDENT}: {int(100 * total_grade / MAX_POINTS)}\")"
      ]
    }
  ],
  "metadata": {
    "@webio": {
      "lastCommId": null,
      "lastKernelId": null
    },
    "celltoolbar": "Tags",
    "colab": {
      "provenance": []
    },
    "kernelspec": {
      "display_name": "Python 3 (ipykernel)",
      "language": "python",
      "name": "python3"
    },
    "language_info": {
      "codemirror_mode": {
        "name": "ipython",
        "version": 3
      },
      "file_extension": ".py",
      "mimetype": "text/x-python",
      "name": "python",
      "nbconvert_exporter": "python",
      "pygments_lexer": "ipython3",
      "version": "3.8.8"
    },
    "toc-showtags": true
  },
  "nbformat": 4,
  "nbformat_minor": 0
}
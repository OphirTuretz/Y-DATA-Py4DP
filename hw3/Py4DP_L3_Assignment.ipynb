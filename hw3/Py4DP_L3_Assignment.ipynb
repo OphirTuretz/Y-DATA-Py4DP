{
  "cells": [
    {
      "cell_type": "markdown",
      "metadata": {
        "id": "rz-YSbGAWPVQ"
      },
      "source": [
        "# Notes\n",
        "\n",
        "Different problems give different number of points: 2, 3 or 4.\n",
        "\n",
        "Please, fill `STUDENT` variable with your name, so that we call collect the results automatically. Each problem contains specific validation details. We will do our best to review your assignments, but please keep in mind, that for this assignment automatic grade (between $0$ an $1$) is the primary source of ground truth."
      ]
    },
    {
      "cell_type": "code",
      "execution_count": 1,
      "metadata": {
        "ExecuteTime": {
          "end_time": "2019-11-13T22:00:31.331179Z",
          "start_time": "2019-11-13T22:00:30.492519Z"
        },
        "scrolled": true,
        "id": "7TQoQmwiWPVd",
        "outputId": "29b70b6e-1374-40f6-f06d-b62f8c72c183",
        "colab": {
          "base_uri": "https://localhost:8080/"
        }
      },
      "outputs": [
        {
          "output_type": "stream",
          "name": "stdout",
          "text": [
            "Populating the interactive namespace from numpy and matplotlib\n"
          ]
        }
      ],
      "source": [
        "%pylab inline\n",
        "plt.style.use(\"bmh\")"
      ]
    },
    {
      "cell_type": "code",
      "execution_count": 2,
      "metadata": {
        "ExecuteTime": {
          "end_time": "2019-11-13T22:00:32.020415Z",
          "start_time": "2019-11-13T22:00:32.015416Z"
        },
        "id": "JE0Vzfz8WPVf"
      },
      "outputs": [],
      "source": [
        "plt.rcParams[\"figure.figsize\"] = (6,6)"
      ]
    },
    {
      "cell_type": "code",
      "execution_count": 3,
      "metadata": {
        "ExecuteTime": {
          "end_time": "2019-11-13T22:00:34.357252Z",
          "start_time": "2019-11-13T22:00:32.305471Z"
        },
        "scrolled": true,
        "id": "xP2r557ZWPVg"
      },
      "outputs": [],
      "source": [
        "import numpy as np\n",
        "import torch"
      ]
    },
    {
      "cell_type": "code",
      "execution_count": 4,
      "metadata": {
        "ExecuteTime": {
          "end_time": "2019-11-13T22:11:54.201123Z",
          "start_time": "2019-11-13T22:11:54.196430Z"
        },
        "id": "a0RSIS9yWPVh"
      },
      "outputs": [],
      "source": [
        "STUDENT = \"Amit Zulan, Ophir Turetz\"\n",
        "ASSIGNMENT = 3\n",
        "TEST = False"
      ]
    },
    {
      "cell_type": "code",
      "execution_count": 5,
      "metadata": {
        "id": "VexDsWIVWPVh"
      },
      "outputs": [],
      "source": [
        "if TEST:\n",
        "    import solutions\n",
        "    total_grade = 0\n",
        "    MAX_POINTS = 11"
      ]
    },
    {
      "cell_type": "markdown",
      "metadata": {
        "id": "m5CjjHoBWPVi"
      },
      "source": [
        "# Basic PyTorch"
      ]
    },
    {
      "cell_type": "markdown",
      "metadata": {
        "tags": [
          "problem"
        ],
        "id": "5efgHoKkWPVj"
      },
      "source": [
        "### 1. ReLU activation (2 points).\n",
        "\n",
        "ReLU is the most commonly used activation function in many deep learning application. It's defined as\n",
        "\n",
        "$$\n",
        "ReLU(x) = \\max(0, x).\n",
        "$$\n",
        "\n",
        "Input and output are tensors.\\\n",
        "Output must be of the same shape as input, and **will be tested against three random combinations of input tensor dimensions ($100 \\leq n < 1000 $)**, while values of the input are drawn from standard normal distribution. Number of dimensions of the input will also be selected randomly and is either 1, 2 or 3."
      ]
    },
    {
      "cell_type": "code",
      "execution_count": 6,
      "metadata": {
        "tags": [
          "solution"
        ],
        "id": "Z8AtXltCWPVk"
      },
      "outputs": [],
      "source": [
        "def relu(arr):\n",
        "    # your code goes here\n",
        "    return torch.maximum(arr, torch.tensor(0))"
      ]
    },
    {
      "cell_type": "code",
      "execution_count": 7,
      "metadata": {
        "tags": [
          "validation"
        ],
        "id": "NF72DX4LWPVl"
      },
      "outputs": [],
      "source": [
        "PROBLEM_ID = 1\n",
        "\n",
        "if TEST:\n",
        "    total_grade += solutions.check(STUDENT, PROBLEM_ID, relu)"
      ]
    },
    {
      "cell_type": "code",
      "source": [
        "if not TEST:\n",
        "  a = torch.tensor([1, 2, -1])\n",
        "  b = torch.tensor([[0.1, -1.2], [-2.2, -3.1], [4.9, 5.2]])\n",
        "  print(torch.maximum(a, torch.tensor(0)))\n",
        "  print(torch.maximum(b, torch.tensor(0)))\n",
        "  print(relu(a))\n",
        "  print(relu(b))"
      ],
      "metadata": {
        "colab": {
          "base_uri": "https://localhost:8080/"
        },
        "id": "S5Z4IBzNescB",
        "outputId": "ca7140f6-ab70-40ef-8973-0d5f9bccc9c5"
      },
      "execution_count": 8,
      "outputs": [
        {
          "output_type": "stream",
          "name": "stdout",
          "text": [
            "tensor([1, 2, 0])\n",
            "tensor([[0.1000, 0.0000],\n",
            "        [0.0000, 0.0000],\n",
            "        [4.9000, 5.2000]])\n",
            "tensor([1, 2, 0])\n",
            "tensor([[0.1000, 0.0000],\n",
            "        [0.0000, 0.0000],\n",
            "        [4.9000, 5.2000]])\n"
          ]
        }
      ]
    },
    {
      "cell_type": "markdown",
      "metadata": {
        "tags": [
          "problem"
        ],
        "id": "pWleoySDWPVp"
      },
      "source": [
        "### 2. Mean squared error (2 points).\n",
        "\n",
        "In this problem you need to calculate MSE for a pair of tensors `y_true` and `y_pred`. MSE is defined as usual:\n",
        "\n",
        "$$\n",
        "L_{MSE} = \\frac{1}{N} \\sum_i \\left(y_i - \\hat y_i\\right)^2\n",
        "$$\n",
        "\n",
        "Note, however, that `y_true` and `y_pred`may be of **different shape**. While `y_true` is always $(N,)$, `y_pred` may be $(N,1)$, $(1, N)$ or $(N,)$. Input values are drawn from standard normal distribution and **shape is selected randomly ($100 \\leq n < 1000 $)**."
      ]
    },
    {
      "cell_type": "code",
      "execution_count": 9,
      "metadata": {
        "tags": [
          "solution"
        ],
        "id": "z9_jWN9vWPVq"
      },
      "outputs": [],
      "source": [
        "def mse(y_true, y_pred):\n",
        "    # your code goes here\n",
        "    return torch.mean(torch.square(y_true - y_pred.reshape(-1)))"
      ]
    },
    {
      "cell_type": "code",
      "execution_count": 10,
      "metadata": {
        "tags": [
          "validation"
        ],
        "id": "KVVKtQ-vWPVr"
      },
      "outputs": [],
      "source": [
        "PROBLEM_ID = 2\n",
        "\n",
        "if TEST:\n",
        "    total_grade += solutions.check(STUDENT, PROBLEM_ID, mse)"
      ]
    },
    {
      "cell_type": "code",
      "source": [
        "if not TEST:\n",
        "  print(torch.mean(torch.tensor([[1., 2], [3, 4], [5, 6]])))\n",
        "\n",
        "  N = 100\n",
        "  yt = torch.ones(N)\n",
        "  ypN = torch.ones(N)\n",
        "  ypN1 = torch.ones(N,1)\n",
        "  yp1N = torch.ones(1, N)\n",
        "  print(yt.shape)\n",
        "  print(ypN.shape)\n",
        "  print(ypN1.shape)\n",
        "  print(yp1N.shape)\n",
        "  print(ypN.reshape(-1).shape)\n",
        "  print(ypN1.reshape(-1).shape)\n",
        "  print(yp1N.reshape(-1).shape)\n",
        "\n",
        "  print()\n",
        "\n",
        "  print(mse(yt, ypN))\n",
        "  print(mse(yt, ypN1))\n",
        "  print(mse(yt, yp1N))"
      ],
      "metadata": {
        "colab": {
          "base_uri": "https://localhost:8080/"
        },
        "id": "aSSLbqC0f-xp",
        "outputId": "d104a7ec-4951-4068-9d0f-1937fc01e037"
      },
      "execution_count": 11,
      "outputs": [
        {
          "output_type": "stream",
          "name": "stdout",
          "text": [
            "tensor(3.5000)\n",
            "torch.Size([100])\n",
            "torch.Size([100])\n",
            "torch.Size([100, 1])\n",
            "torch.Size([1, 100])\n",
            "torch.Size([100])\n",
            "torch.Size([100])\n",
            "torch.Size([100])\n",
            "\n",
            "tensor(0.)\n",
            "tensor(0.)\n",
            "tensor(0.)\n"
          ]
        }
      ]
    },
    {
      "cell_type": "markdown",
      "metadata": {
        "tags": [
          "problem"
        ],
        "id": "06h38EFQWPVr"
      },
      "source": [
        "### 3. Character-level encoding (4 points).\n",
        "\n",
        "In computations in general and in machine learning specifically letters cannot be used directly, as computers only know about numbers.\\\n",
        "Text data may be encoded in many different ways in **N**atural **L**anguage **P**rocessing (**NLP**) tasks.\n",
        "\n",
        "One of the simplest ways to encode letters is to use one-hot encoded representation, with letters being \"class labels\". A letter is represented by a tensor of shape $(26,)$.\n",
        "\n",
        "Then, for example, word \"python\" would be transformed into a tensor of shape $(6, 26)$ with all elements being $0$, except $(0, 15)\\sim p,\\,(1, 24)\\sim y,\\,(2, 19)\\sim t,...$ being $1$. A phrase would be represented with 3-dimensional tensor.\n",
        "\n",
        "In this problem your input is `words` - a list of strings (words) of length $N$.\\\n",
        "The only characters used are those from `string.ascii_lowercase`, and words are of different length $L_i$.\\\n",
        "You need to output a tensor that represents this list of words. Output must be of shape $(N, \\max(L_i), 26)$.\n",
        "\n",
        "Dimension 0 corresponds to words themselves, with `tensor[0]` being a represetation of `words[0]`. Note, that you need to use padding: although trivial in this case, you must remember, that tensor must accomodate for a longest word, thus dimension 1 is $\\max(L_i)$.\n",
        "\n",
        "Note also, that the only loop you need here is a loop over `words`, there's no need to loop over the resulting tensor.\n",
        "\n",
        "The result will be tested against three predefined lists of word, with all words being lowercase and containing only ASCII characters."
      ]
    },
    {
      "cell_type": "code",
      "execution_count": 12,
      "metadata": {
        "tags": [
          "solution"
        ],
        "id": "8LYQlaZ7WPVs"
      },
      "outputs": [],
      "source": [
        "def encode(words):\n",
        "    # your code goes here\n",
        "    N = len(words)\n",
        "    max_L = len(max(words, key = len))\n",
        "\n",
        "    output = torch.zeros(N, max_L, 26)\n",
        "\n",
        "    for idx, word in enumerate(words):\n",
        "\n",
        "      output[idx, torch.arange(len(word)), torch.tensor(list(bytes(word, 'ascii'))) - torch.tensor(list(bytes('a', 'ascii')))] = 1\n",
        "      # output[idx, torch.arange(len(word)), torch.tensor(list(word.encode('ascii'))) - torch.tensor(list('a'.encode('ascii')))] = 1\n",
        "      # output[idx, torch.arange(len(word)), [(ord(letter) - ord('a')) for letter in word]] = 1\n",
        "\n",
        "    return output"
      ]
    },
    {
      "cell_type": "code",
      "execution_count": 13,
      "metadata": {
        "tags": [
          "validation"
        ],
        "id": "HT_rQZ4tWPVs"
      },
      "outputs": [],
      "source": [
        "PROBLEM_ID = 3\n",
        "\n",
        "if TEST:\n",
        "    total_grade += solutions.check(STUDENT, PROBLEM_ID, encode)"
      ]
    },
    {
      "cell_type": "code",
      "source": [
        "if not TEST:\n",
        "  words = ['words', 'a', 'shalom']\n",
        "  print(len(max(['words', 'a', '12345678'], key = len)))\n",
        "  print(ord('a'))\n",
        "  print(ord('b'))\n",
        "  print(encode(words)[0][0])\n",
        "  print(encode(words)[0][1])\n",
        "  print(encode(words)[1][0])\n",
        "  print(encode(words)[1][1])\n",
        "  print(torch.tensor(list(words[0].encode('ascii'))) - torch.tensor(list('a'.encode('ascii'))))"
      ],
      "metadata": {
        "colab": {
          "base_uri": "https://localhost:8080/"
        },
        "id": "3kqeDo__7ybX",
        "outputId": "1594908d-b656-4cd2-b6a6-b8264805d822"
      },
      "execution_count": 14,
      "outputs": [
        {
          "output_type": "stream",
          "name": "stdout",
          "text": [
            "8\n",
            "97\n",
            "98\n",
            "tensor([0., 0., 0., 0., 0., 0., 0., 0., 0., 0., 0., 0., 0., 0., 0., 0., 0., 0.,\n",
            "        0., 0., 0., 0., 1., 0., 0., 0.])\n",
            "tensor([0., 0., 0., 0., 0., 0., 0., 0., 0., 0., 0., 0., 0., 0., 1., 0., 0., 0.,\n",
            "        0., 0., 0., 0., 0., 0., 0., 0.])\n",
            "tensor([1., 0., 0., 0., 0., 0., 0., 0., 0., 0., 0., 0., 0., 0., 0., 0., 0., 0.,\n",
            "        0., 0., 0., 0., 0., 0., 0., 0.])\n",
            "tensor([0., 0., 0., 0., 0., 0., 0., 0., 0., 0., 0., 0., 0., 0., 0., 0., 0., 0., 0., 0., 0., 0., 0., 0.,\n",
            "        0., 0.])\n",
            "tensor([22, 14, 17,  3, 18])\n"
          ]
        }
      ]
    },
    {
      "cell_type": "markdown",
      "metadata": {
        "id": "V5dVCToHWPVt"
      },
      "source": [
        "# Gradients"
      ]
    },
    {
      "cell_type": "markdown",
      "metadata": {
        "id": "ciiNVPuOWPVt"
      },
      "source": [
        "### 4. Generate gradient (1 point).\n",
        "\n",
        "For 2-dimensional tensor `tr`, calculate a gradient of $\\sum\\log tr_{ij}$. Note, that you're provided with dimensions and interval, and not the `tr` inself:\n",
        "\n",
        "- `dims` is a tuple, so that `tr.size()` equals `dims`,\n",
        "- `lims` is an interval, so that elements of `tr` are integers, uniformly sampled from `[lims[0], lims[1])` interval (note, that lims[1] is **not** included).\n",
        "\n",
        "Result must be a tensor of the same shape as `tr` (namely, `dims`), containing gradients of the following function:\n",
        "\n",
        "$$\\sum_{ij}\\log tr_{ij}.$$\n",
        "\n",
        "and generated `tr` itself.\n",
        "\n",
        "Result **will be tested against multiple random combinations of input tensor dimensions ($10 \\leq n < 100 $) and sampling interval (`lims[0]=1`, `10 <= lims[1] < 100`)**.\n",
        "\n",
        "**Hint**: think on how you can validate the solution yourself, given that gradient can be computed manually on paper.\n",
        "\n",
        "Example of input parameters: `generate_grad((2, 5), (1, 10))` means that:\n",
        "* dimension of the input / output tensor are (2, 5)\n",
        "* the generated tensor will contain random numbers from 1 to 9"
      ]
    },
    {
      "cell_type": "code",
      "execution_count": 15,
      "metadata": {
        "tags": [
          "solution"
        ],
        "id": "3k-U-kiiWPVu"
      },
      "outputs": [],
      "source": [
        "def generate_grad(dims, lims):\n",
        "    \"\"\"Generate gradient of `log(x)`.\"\"\"\n",
        "    # generate tr first\n",
        "    tr = torch.distributions.uniform.Uniform(lims[0], lims[1]).sample(dims).requires_grad_()\n",
        "\n",
        "    # gradient calculation\n",
        "    torch.log(tr).sum().backward()\n",
        "\n",
        "    return tr.grad, tr"
      ]
    },
    {
      "cell_type": "code",
      "execution_count": 16,
      "metadata": {
        "tags": [
          "validation"
        ],
        "id": "MPOfA3yjWPVu"
      },
      "outputs": [],
      "source": [
        "PROBLEM_ID = 4\n",
        "\n",
        "if TEST:\n",
        "    total_grade += solutions.check(STUDENT, PROBLEM_ID, generate_grad)"
      ]
    },
    {
      "cell_type": "code",
      "source": [
        "if not TEST:\n",
        "  tr_grad, tr = generate_grad((2, 5), (1,10))\n",
        "  print(tr.size())\n",
        "  print(tr_grad.shape)\n",
        "  print(tr)\n",
        "  print(tr_grad)\n",
        "  print(torch.pow(tr, -1))\n",
        "  print((tr_grad == torch.pow(tr, -1)).all())"
      ],
      "metadata": {
        "colab": {
          "base_uri": "https://localhost:8080/"
        },
        "id": "VmALmhrQOnSh",
        "outputId": "11dd2028-6301-44ec-c576-bb81694e4eef"
      },
      "execution_count": 17,
      "outputs": [
        {
          "output_type": "stream",
          "name": "stdout",
          "text": [
            "torch.Size([2, 5])\n",
            "torch.Size([2, 5])\n",
            "tensor([[9.7355, 3.1024, 4.9937, 2.7959, 4.4718],\n",
            "        [2.8130, 6.6773, 7.7644, 9.9076, 2.4966]], requires_grad=True)\n",
            "tensor([[0.1027, 0.3223, 0.2003, 0.3577, 0.2236],\n",
            "        [0.3555, 0.1498, 0.1288, 0.1009, 0.4005]])\n",
            "tensor([[0.1027, 0.3223, 0.2003, 0.3577, 0.2236],\n",
            "        [0.3555, 0.1498, 0.1288, 0.1009, 0.4005]], grad_fn=<PowBackward0>)\n",
            "tensor(True)\n"
          ]
        }
      ]
    },
    {
      "cell_type": "markdown",
      "metadata": {
        "tags": [
          "problem"
        ],
        "id": "5ocBujSxWPVv"
      },
      "source": [
        "### 5. Find a minimum (2 points, manually graded).\n",
        "\n",
        "Consider the following scalar function:\n",
        "\n",
        "$$\n",
        "f(x) = ax^2 + bx + c\n",
        "$$\n",
        "\n",
        "Given the $a,b,c$, find $x$, which minimizes $f(x)$. Note this:\n",
        "\n",
        "- $a,b,c$ are fixed, and generated in such a way, that minimum always exists ($f(x)$ is convex),\n",
        "- $x$ is a scalar value, i.e. 0-dimensional tensor.\n",
        "\n",
        "**Hint:** stop for a second to think about which tensor must contain `requires_grad` and on which scalar should `.backward()` be called."
      ]
    },
    {
      "cell_type": "code",
      "execution_count": 18,
      "metadata": {
        "ExecuteTime": {
          "end_time": "2019-11-13T23:15:11.348224Z",
          "start_time": "2019-11-13T23:15:11.334569Z"
        },
        "tags": [
          "solution"
        ],
        "id": "syZnk2DLWPVv"
      },
      "outputs": [],
      "source": [
        "def generate_coeffs():\n",
        "    a = torch.rand(size=()) * 10\n",
        "    b = -10 + torch.rand(size=()) * 10\n",
        "    c = -10 + torch.rand(size=()) * 10\n",
        "    return a, b, c\n",
        "\n",
        "def func(x, a, b, c):\n",
        "    return x.pow(2) * a + x * b + c"
      ]
    },
    {
      "cell_type": "code",
      "execution_count": 19,
      "metadata": {
        "ExecuteTime": {
          "end_time": "2019-11-13T23:25:50.106449Z",
          "start_time": "2019-11-13T23:25:50.095086Z"
        },
        "tags": [
          "solution"
        ],
        "id": "gUOiVeZQWPVv",
        "colab": {
          "base_uri": "https://localhost:8080/"
        },
        "outputId": "cc2043ac-7182-4c47-dfea-c3adf9c6abd5"
      },
      "outputs": [
        {
          "output_type": "stream",
          "name": "stdout",
          "text": [
            "Epoch 0: f(x = 49.994327545166016) = 82.33721160888672\n",
            "Epoch 1: f(x = 49.02180480957031) = 72.39012908935547\n",
            "Epoch 2: f(x = 48.081336975097656) = 63.087974548339844\n",
            "Epoch 3: f(x = 47.17186737060547) = 54.388938903808594\n",
            "Epoch 4: f(x = 46.29237365722656) = 46.25389862060547\n",
            "Epoch 5: f(x = 45.44186782836914) = 38.646263122558594\n",
            "Epoch 6: f(x = 44.6193962097168) = 31.53188133239746\n",
            "Epoch 7: f(x = 43.824031829833984) = 24.87874412536621\n",
            "Epoch 8: f(x = 43.05488204956055) = 18.656972885131836\n",
            "Epoch 9: f(x = 42.31108474731445) = 12.838582992553711\n",
            "Epoch 10: f(x = 41.59180450439453) = 7.397420883178711\n",
            "Epoch 11: f(x = 40.89623260498047) = 2.309041976928711\n",
            "Epoch 12: f(x = 40.22358703613281) = -2.449441909790039\n",
            "Epoch 13: f(x = 39.57311248779297) = -6.899393081665039\n",
            "Epoch 14: f(x = 38.94407653808594) = -11.060831069946289\n",
            "Epoch 15: f(x = 38.33577346801758) = -14.952508926391602\n",
            "Epoch 16: f(x = 37.747520446777344) = -18.59185218811035\n",
            "Epoch 17: f(x = 37.17865753173828) = -21.9952335357666\n",
            "Epoch 18: f(x = 36.628543853759766) = -25.17795753479004\n",
            "Epoch 19: f(x = 36.096561431884766) = -28.154321670532227\n",
            "Epoch 20: f(x = 35.582115173339844) = -30.9377384185791\n",
            "Epoch 21: f(x = 35.084625244140625) = -33.540687561035156\n",
            "Epoch 22: f(x = 34.60353088378906) = -35.97486114501953\n",
            "Epoch 23: f(x = 34.1382942199707) = -38.25122833251953\n",
            "Epoch 24: f(x = 33.688392639160156) = -40.38001251220703\n",
            "Epoch 25: f(x = 33.253318786621094) = -42.370750427246094\n",
            "Epoch 26: f(x = 32.832584381103516) = -44.232460021972656\n",
            "Epoch 27: f(x = 32.42572021484375) = -45.97344207763672\n",
            "Epoch 28: f(x = 32.032264709472656) = -47.60157012939453\n",
            "Epoch 29: f(x = 31.651779174804688) = -49.124107360839844\n",
            "Epoch 30: f(x = 31.28383445739746) = -50.547950744628906\n",
            "Epoch 31: f(x = 30.928016662597656) = -51.879493713378906\n",
            "Epoch 32: f(x = 30.583927154541016) = -53.124671936035156\n",
            "Epoch 33: f(x = 30.251178741455078) = -54.289146423339844\n",
            "Epoch 34: f(x = 29.929397583007812) = -55.37812042236328\n",
            "Epoch 35: f(x = 29.618223190307617) = -56.39647674560547\n",
            "Epoch 36: f(x = 29.317304611206055) = -57.34882354736328\n",
            "Epoch 37: f(x = 29.026304244995117) = -58.239418029785156\n",
            "Epoch 38: f(x = 28.744895935058594) = -59.07225799560547\n",
            "Epoch 39: f(x = 28.472763061523438) = -59.85112762451172\n",
            "Epoch 40: f(x = 28.209598541259766) = -60.579490661621094\n",
            "Epoch 41: f(x = 27.955108642578125) = -61.26062774658203\n",
            "Epoch 42: f(x = 27.709007263183594) = -61.897605895996094\n",
            "Epoch 43: f(x = 27.471017837524414) = -62.49327850341797\n",
            "Epoch 44: f(x = 27.24087142944336) = -63.05034637451172\n",
            "Epoch 45: f(x = 27.018310546875) = -63.5712890625\n",
            "Epoch 46: f(x = 26.803085327148438) = -64.05846405029297\n",
            "Epoch 47: f(x = 26.594955444335938) = -64.51403045654297\n",
            "Epoch 48: f(x = 26.39368438720703) = -64.9400863647461\n",
            "Epoch 49: f(x = 26.199047088623047) = -65.3385009765625\n",
            "Epoch 50: f(x = 26.010826110839844) = -65.71109008789062\n",
            "Epoch 51: f(x = 25.828807830810547) = -66.05953216552734\n",
            "Epoch 52: f(x = 25.652790069580078) = -66.38536834716797\n",
            "Epoch 53: f(x = 25.482574462890625) = -66.69010162353516\n",
            "Epoch 54: f(x = 25.317968368530273) = -66.97505187988281\n",
            "Epoch 55: f(x = 25.158788681030273) = -67.24153900146484\n",
            "Epoch 56: f(x = 25.004854202270508) = -67.4907455444336\n",
            "Epoch 57: f(x = 24.855993270874023) = -67.72380065917969\n",
            "Epoch 58: f(x = 24.712039947509766) = -67.94174194335938\n",
            "Epoch 59: f(x = 24.572830200195312) = -68.14553833007812\n",
            "Epoch 60: f(x = 24.438209533691406) = -68.33614349365234\n",
            "Epoch 61: f(x = 24.308025360107422) = -68.51438903808594\n",
            "Epoch 62: f(x = 24.182132720947266) = -68.68106079101562\n",
            "Epoch 63: f(x = 24.06039047241211) = -68.83695983886719\n",
            "Epoch 64: f(x = 23.94266128540039) = -68.98271179199219\n",
            "Epoch 65: f(x = 23.828811645507812) = -69.1190414428711\n",
            "Epoch 66: f(x = 23.718713760375977) = -69.24652099609375\n",
            "Epoch 67: f(x = 23.612245559692383) = -69.36573791503906\n",
            "Epoch 68: f(x = 23.509286880493164) = -69.47721862792969\n",
            "Epoch 69: f(x = 23.40972137451172) = -69.58147430419922\n",
            "Epoch 70: f(x = 23.313438415527344) = -69.67898559570312\n",
            "Epoch 71: f(x = 23.220327377319336) = -69.77014923095703\n",
            "Epoch 72: f(x = 23.130285263061523) = -69.85542297363281\n",
            "Epoch 73: f(x = 23.043210983276367) = -69.93516540527344\n",
            "Epoch 74: f(x = 22.959007263183594) = -70.0097427368164\n",
            "Epoch 75: f(x = 22.877578735351562) = -70.07946014404297\n",
            "Epoch 76: f(x = 22.7988338470459) = -70.14466857910156\n",
            "Epoch 77: f(x = 22.722684860229492) = -70.2056655883789\n",
            "Epoch 78: f(x = 22.649045944213867) = -70.2626953125\n",
            "Epoch 79: f(x = 22.577835083007812) = -70.3160171508789\n",
            "Epoch 80: f(x = 22.508970260620117) = -70.36591339111328\n",
            "Epoch 81: f(x = 22.44237518310547) = -70.41254425048828\n",
            "Epoch 82: f(x = 22.377975463867188) = -70.45616149902344\n",
            "Epoch 83: f(x = 22.315698623657227) = -70.4969482421875\n",
            "Epoch 84: f(x = 22.255474090576172) = -70.53508758544922\n",
            "Epoch 85: f(x = 22.197235107421875) = -70.57077026367188\n",
            "Epoch 86: f(x = 22.140914916992188) = -70.6041259765625\n",
            "Epoch 87: f(x = 22.086450576782227) = -70.63532257080078\n",
            "Epoch 88: f(x = 22.033782958984375) = -70.66449737548828\n",
            "Epoch 89: f(x = 21.982851028442383) = -70.69178771972656\n",
            "Epoch 90: f(x = 21.933597564697266) = -70.71730041503906\n",
            "Epoch 91: f(x = 21.885967254638672) = -70.74114990234375\n",
            "Epoch 92: f(x = 21.839906692504883) = -70.76347351074219\n",
            "Epoch 93: f(x = 21.795364379882812) = -70.78433990478516\n",
            "Epoch 94: f(x = 21.752290725708008) = -70.80384063720703\n",
            "Epoch 95: f(x = 21.710636138916016) = -70.82209014892578\n",
            "Epoch 96: f(x = 21.67035484313965) = -70.83915710449219\n",
            "Epoch 97: f(x = 21.63140106201172) = -70.85511779785156\n",
            "Epoch 98: f(x = 21.593730926513672) = -70.87004089355469\n",
            "Epoch 99: f(x = 21.557302474975586) = -70.88399505615234\n"
          ]
        }
      ],
      "source": [
        "EPOCHS = 100 #20\n",
        "LR = 1e-1\n",
        "STARTING_VAL = 51. # Consider choosing different starting values for x to speed-up the optimization\n",
        "\n",
        "# Initialize x, a, b, c\n",
        "x = torch.tensor(STARTING_VAL, requires_grad=True)\n",
        "a, b, c = generate_coeffs()\n",
        "\n",
        "# Collect f(x) values during training for visuzalition later on\n",
        "x_vals = []\n",
        "f_vals = []\n",
        "\n",
        "for i in range(EPOCHS):\n",
        "    # Your code goes here\n",
        "    f = func(x, a, b, c)\n",
        "    f.backward()\n",
        "\n",
        "    x_vals.append(x.item())\n",
        "    f_vals.append(f.item())\n",
        "\n",
        "    with torch.no_grad():\n",
        "        x.sub_(LR * x.grad)\n",
        "    x.grad.zero_()\n",
        "\n",
        "    print(f\"Epoch {i}: f(x = {x}) = {f_vals[-1]}\")\n"
      ]
    },
    {
      "cell_type": "code",
      "execution_count": 20,
      "metadata": {
        "ExecuteTime": {
          "end_time": "2019-11-13T23:26:15.085855Z",
          "start_time": "2019-11-13T23:26:15.078760Z"
        },
        "tags": [
          "solution"
        ],
        "id": "_zpmvNoyWPVw",
        "colab": {
          "base_uri": "https://localhost:8080/",
          "height": 517
        },
        "outputId": "372bf812-f977-492c-c4a8-2bd0f90589df"
      },
      "outputs": [
        {
          "output_type": "display_data",
          "data": {
            "text/plain": [
              "<Figure size 600x600 with 1 Axes>"
            ],
            "image/png": "[encoded data removed]"
          },
          "metadata": {}
        }
      ],
      "source": [
        "if f_vals:\n",
        "    grid = np.linspace(-5, 5, 100)\n",
        "    plt.plot(grid, np.square(grid) * a.item() + grid * b.item() + c.item())\n",
        "    plt.plot(x_vals[2:-30:10], f_vals[2:-30:10], 'ro')\n",
        "    plt.hlines(f_vals[-1], -5, 5, \"firebrick\", \"--\", linewidth=1)"
      ]
    },
    {
      "cell_type": "code",
      "execution_count": 21,
      "metadata": {
        "tags": [
          "validation"
        ],
        "id": "r7Hz05x6WPVw"
      },
      "outputs": [],
      "source": [
        "PROBLEM_ID = 5\n",
        "GRADE = 0\n",
        "\n",
        "if TEST:\n",
        "    total_grade += GRADE"
      ]
    },
    {
      "cell_type": "code",
      "execution_count": 22,
      "metadata": {
        "ExecuteTime": {
          "end_time": "2019-11-13T23:48:26.479012Z",
          "start_time": "2019-11-13T23:48:26.459417Z"
        },
        "tags": [
          "validation"
        ],
        "id": "bCVR5G2KWPVw"
      },
      "outputs": [],
      "source": [
        "if TEST:\n",
        "    print(f\"{STUDENT}: {int(100 * total_grade / MAX_POINTS)}\")"
      ]
    },
    {
      "cell_type": "code",
      "execution_count": 23,
      "metadata": {
        "id": "JQbByV6NWPVw",
        "colab": {
          "base_uri": "https://localhost:8080/"
        },
        "outputId": "873aa5f6-20c8-4e46-9439-5ffc0828ed25"
      },
      "outputs": [
        {
          "output_type": "stream",
          "name": "stdout",
          "text": [
            "x_min theory: 20.488525390625\n",
            "f_min theory: -71.0853042602539\n",
            "x_min grad: 21.557302474975586\n",
            "f_min grad: -70.88399505615234\n"
          ]
        }
      ],
      "source": [
        "if not TEST:\n",
        "  x_min = -b/(2*a)\n",
        "  f_min = func(x_min, a, b, c)\n",
        "  print(f'x_min theory: {x_min}')\n",
        "  print(f'f_min theory: {f_min}')\n",
        "  print(f'x_min grad: {x}')\n",
        "  print(f'f_min grad: {f_vals[-1]}')"
      ]
    }
  ],
  "metadata": {
    "@webio": {
      "lastCommId": null,
      "lastKernelId": null
    },
    "celltoolbar": "Tags",
    "kernelspec": {
      "display_name": "Python 3",
      "language": "python",
      "name": "python3"
    },
    "language_info": {
      "codemirror_mode": {
        "name": "ipython",
        "version": 3
      },
      "file_extension": ".py",
      "mimetype": "text/x-python",
      "name": "python",
      "nbconvert_exporter": "python",
      "pygments_lexer": "ipython3",
      "version": "3.8.12"
    },
    "colab": {
      "provenance": []
    }
  },
  "nbformat": 4,
  "nbformat_minor": 0
}
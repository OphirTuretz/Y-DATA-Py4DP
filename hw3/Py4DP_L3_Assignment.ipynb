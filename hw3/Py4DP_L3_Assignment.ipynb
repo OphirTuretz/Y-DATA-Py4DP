{
  "cells": [
    {
      "cell_type": "markdown",
      "metadata": {
        "id": "rz-YSbGAWPVQ"
      },
      "source": [
        "# Notes\n",
        "\n",
        "Different problems give different number of points: 2, 3 or 4.\n",
        "\n",
        "Please, fill `STUDENT` variable with your name, so that we call collect the results automatically. Each problem contains specific validation details. We will do our best to review your assignments, but please keep in mind, that for this assignment automatic grade (between $0$ an $1$) is the primary source of ground truth."
      ]
    },
    {
      "cell_type": "code",
      "execution_count": 1,
      "metadata": {
        "ExecuteTime": {
          "end_time": "2019-11-13T22:00:31.331179Z",
          "start_time": "2019-11-13T22:00:30.492519Z"
        },
        "scrolled": true,
        "id": "7TQoQmwiWPVd",
        "outputId": "4086b094-b82b-47c5-e39f-7939577f98e1",
        "colab": {
          "base_uri": "https://localhost:8080/"
        }
      },
      "outputs": [
        {
          "output_type": "stream",
          "name": "stdout",
          "text": [
            "Populating the interactive namespace from numpy and matplotlib\n"
          ]
        }
      ],
      "source": [
        "%pylab inline\n",
        "plt.style.use(\"bmh\")"
      ]
    },
    {
      "cell_type": "code",
      "execution_count": 2,
      "metadata": {
        "ExecuteTime": {
          "end_time": "2019-11-13T22:00:32.020415Z",
          "start_time": "2019-11-13T22:00:32.015416Z"
        },
        "id": "JE0Vzfz8WPVf"
      },
      "outputs": [],
      "source": [
        "plt.rcParams[\"figure.figsize\"] = (6,6)"
      ]
    },
    {
      "cell_type": "code",
      "execution_count": 3,
      "metadata": {
        "ExecuteTime": {
          "end_time": "2019-11-13T22:00:34.357252Z",
          "start_time": "2019-11-13T22:00:32.305471Z"
        },
        "scrolled": true,
        "id": "xP2r557ZWPVg"
      },
      "outputs": [],
      "source": [
        "import numpy as np\n",
        "import torch"
      ]
    },
    {
      "cell_type": "code",
      "execution_count": 4,
      "metadata": {
        "ExecuteTime": {
          "end_time": "2019-11-13T22:11:54.201123Z",
          "start_time": "2019-11-13T22:11:54.196430Z"
        },
        "id": "a0RSIS9yWPVh"
      },
      "outputs": [],
      "source": [
        "STUDENT = \"Amit Zulan, Ophir Turetz\"\n",
        "ASSIGNMENT = 3\n",
        "TEST = False"
      ]
    },
    {
      "cell_type": "code",
      "execution_count": 5,
      "metadata": {
        "id": "VexDsWIVWPVh"
      },
      "outputs": [],
      "source": [
        "if TEST:\n",
        "    import solutions\n",
        "    total_grade = 0\n",
        "    MAX_POINTS = 11"
      ]
    },
    {
      "cell_type": "markdown",
      "metadata": {
        "id": "m5CjjHoBWPVi"
      },
      "source": [
        "# Basic PyTorch"
      ]
    },
    {
      "cell_type": "markdown",
      "metadata": {
        "tags": [
          "problem"
        ],
        "id": "5efgHoKkWPVj"
      },
      "source": [
        "### 1. ReLU activation (2 points).\n",
        "\n",
        "ReLU is the most commonly used activation function in many deep learning application. It's defined as\n",
        "\n",
        "$$\n",
        "ReLU(x) = \\max(0, x).\n",
        "$$\n",
        "\n",
        "Input and output are tensors.\\\n",
        "Output must be of the same shape as input, and **will be tested against three random combinations of input tensor dimensions ($100 \\leq n < 1000 $)**, while values of the input are drawn from standard normal distribution. Number of dimensions of the input will also be selected randomly and is either 1, 2 or 3."
      ]
    },
    {
      "cell_type": "code",
      "execution_count": 11,
      "metadata": {
        "tags": [
          "solution"
        ],
        "id": "Z8AtXltCWPVk"
      },
      "outputs": [],
      "source": [
        "def relu(arr):\n",
        "    # your code goes here\n",
        "    return torch.maximum(arr, torch.tensor(0))"
      ]
    },
    {
      "cell_type": "code",
      "execution_count": null,
      "metadata": {
        "tags": [
          "validation"
        ],
        "id": "NF72DX4LWPVl"
      },
      "outputs": [],
      "source": [
        "PROBLEM_ID = 1\n",
        "\n",
        "if TEST:\n",
        "    total_grade += solutions.check(STUDENT, PROBLEM_ID, relu)"
      ]
    },
    {
      "cell_type": "code",
      "source": [
        "if not TEST:\n",
        "  a = torch.tensor([1, 2, -1])\n",
        "  b = torch.tensor([[0.1, -1.2], [-2.2, -3.1], [4.9, 5.2]])\n",
        "  print(torch.maximum(a, torch.tensor(0)))\n",
        "  print(torch.maximum(b, torch.tensor(0)))\n",
        "  print(relu(a))\n",
        "  print(relu(b))"
      ],
      "metadata": {
        "colab": {
          "base_uri": "https://localhost:8080/"
        },
        "id": "S5Z4IBzNescB",
        "outputId": "c9788bc1-71d4-45e3-b194-18f4efa3032f"
      },
      "execution_count": 13,
      "outputs": [
        {
          "output_type": "stream",
          "name": "stdout",
          "text": [
            "tensor([1, 2, 0])\n",
            "tensor([[0.1000, 0.0000],\n",
            "        [0.0000, 0.0000],\n",
            "        [4.9000, 5.2000]])\n",
            "tensor([1, 2, 0])\n",
            "tensor([[0.1000, 0.0000],\n",
            "        [0.0000, 0.0000],\n",
            "        [4.9000, 5.2000]])\n"
          ]
        }
      ]
    },
    {
      "cell_type": "markdown",
      "metadata": {
        "tags": [
          "problem"
        ],
        "id": "pWleoySDWPVp"
      },
      "source": [
        "### 2. Mean squared error (2 points).\n",
        "\n",
        "In this problem you need to calculate MSE for a pair of tensors `y_true` and `y_pred`. MSE is defined as usual:\n",
        "\n",
        "$$\n",
        "L_{MSE} = \\frac{1}{N} \\sum_i \\left(y_i - \\hat y_i\\right)^2\n",
        "$$\n",
        "\n",
        "Note, however, that `y_true` and `y_pred`may be of **different shape**. While `y_true` is always $(N,)$, `y_pred` may be $(N,1)$, $(1, N)$ or $(N,)$. Input values are drawn from standard normal distribution and **shape is selected randomly ($100 \\leq n < 1000 $)**."
      ]
    },
    {
      "cell_type": "code",
      "execution_count": 49,
      "metadata": {
        "tags": [
          "solution"
        ],
        "id": "z9_jWN9vWPVq"
      },
      "outputs": [],
      "source": [
        "def mse(y_true, y_pred):\n",
        "    # your code goes here\n",
        "    return torch.mean(torch.square(y_true - y_pred.reshape(-1)))"
      ]
    },
    {
      "cell_type": "code",
      "execution_count": 50,
      "metadata": {
        "tags": [
          "validation"
        ],
        "id": "KVVKtQ-vWPVr"
      },
      "outputs": [],
      "source": [
        "PROBLEM_ID = 2\n",
        "\n",
        "if TEST:\n",
        "    total_grade += solutions.check(STUDENT, PROBLEM_ID, mse)"
      ]
    },
    {
      "cell_type": "code",
      "source": [
        "if not TEST:\n",
        "  print(torch.mean(torch.tensor([[1., 2], [3, 4], [5, 6]])))\n",
        "\n",
        "  N = 100\n",
        "  yt = torch.ones(N)\n",
        "  ypN = torch.ones(N)\n",
        "  ypN1 = torch.ones(N,1)\n",
        "  yp1N = torch.ones(1, N)\n",
        "  print(yt.shape)\n",
        "  print(ypN.shape)\n",
        "  print(ypN1.shape)\n",
        "  print(yp1N.shape)\n",
        "  print(ypN.reshape(-1).shape)\n",
        "  print(ypN1.reshape(-1).shape)\n",
        "  print(yp1N.reshape(-1).shape)\n",
        "\n",
        "  print()\n",
        "\n",
        "  print(mse(yt, ypN))\n",
        "  print(mse(yt, ypN1))\n",
        "  print(mse(yt, yp1N))"
      ],
      "metadata": {
        "colab": {
          "base_uri": "https://localhost:8080/"
        },
        "id": "aSSLbqC0f-xp",
        "outputId": "6a77ea34-001e-4f55-f30b-6d1c567773e5"
      },
      "execution_count": 51,
      "outputs": [
        {
          "output_type": "stream",
          "name": "stdout",
          "text": [
            "tensor(3.5000)\n",
            "torch.Size([100])\n",
            "torch.Size([100])\n",
            "torch.Size([100, 1])\n",
            "torch.Size([1, 100])\n",
            "torch.Size([100])\n",
            "torch.Size([100])\n",
            "torch.Size([100])\n",
            "\n",
            "tensor(0.)\n",
            "tensor(0.)\n",
            "tensor(0.)\n"
          ]
        }
      ]
    },
    {
      "cell_type": "markdown",
      "metadata": {
        "tags": [
          "problem"
        ],
        "id": "06h38EFQWPVr"
      },
      "source": [
        "### 3. Character-level encoding (4 points).\n",
        "\n",
        "In computations in general and in machine learning specifically letters cannot be used directly, as computers only know about numbers.\\\n",
        "Text data may be encoded in many different ways in **N**atural **L**anguage **P**rocessing (**NLP**) tasks.\n",
        "\n",
        "One of the simplest ways to encode letters is to use one-hot encoded representation, with letters being \"class labels\". A letter is represented by a tensor of shape $(26,)$.\n",
        "\n",
        "Then, for example, word \"python\" would be transformed into a tensor of shape $(6, 26)$ with all elements being $0$, except $(0, 15)\\sim p,\\,(1, 24)\\sim y,\\,(2, 19)\\sim t,...$ being $1$. A phrase would be represented with 3-dimensional tensor.\n",
        "\n",
        "In this problem your input is `words` - a list of strings (words) of length $N$.\\\n",
        "The only characters used are those from `string.ascii_lowercase`, and words are of different length $L_i$.\\\n",
        "You need to output a tensor that represents this list of words. Output must be of shape $(N, \\max(L_i), 26)$.\n",
        "\n",
        "Dimension 0 corresponds to words themselves, with `tensor[0]` being a represetation of `words[0]`. Note, that you need to use padding: although trivial in this case, you must remember, that tensor must accomodate for a longest word, thus dimension 1 is $\\max(L_i)$.\n",
        "\n",
        "Note also, that the only loop you need here is a loop over `words`, there's no need to loop over the resulting tensor.\n",
        "\n",
        "The result will be tested against three predefined lists of word, with all words being lowercase and containing only ASCII characters."
      ]
    },
    {
      "cell_type": "code",
      "execution_count": 70,
      "metadata": {
        "tags": [
          "solution"
        ],
        "id": "8LYQlaZ7WPVs"
      },
      "outputs": [],
      "source": [
        "def encode(words):\n",
        "    # your code goes here\n",
        "    N = len(words)\n",
        "    max_L = len(max(words, key = len))\n",
        "\n",
        "    output = torch.zeros(N, max_L, 26)\n",
        "\n",
        "    for idx, word in enumerate(words):\n",
        "\n",
        "      output[idx, torch.arange(len(word)), [(ord(letter) - ord('a')) for letter in word]] = 1\n",
        "\n",
        "    return output"
      ]
    },
    {
      "cell_type": "code",
      "execution_count": 71,
      "metadata": {
        "tags": [
          "validation"
        ],
        "id": "HT_rQZ4tWPVs"
      },
      "outputs": [],
      "source": [
        "PROBLEM_ID = 3\n",
        "\n",
        "if TEST:\n",
        "    total_grade += solutions.check(STUDENT, PROBLEM_ID, encode)"
      ]
    },
    {
      "cell_type": "code",
      "source": [
        "if not TEST:\n",
        "  words = ['words', 'a', 'shalom']\n",
        "  print(len(max(['words', 'a', '12345678'], key = len)))\n",
        "  print(ord('a'))\n",
        "  print(ord('b'))\n",
        "  print(encode(words)[0][0])\n",
        "  print(encode(words)[0][1])\n",
        "  print(encode(words)[1][0])\n",
        "  print(encode(words)[1][1])"
      ],
      "metadata": {
        "colab": {
          "base_uri": "https://localhost:8080/"
        },
        "id": "3kqeDo__7ybX",
        "outputId": "e4e445a4-f029-437b-87f5-e3ed1e8c1178"
      },
      "execution_count": 72,
      "outputs": [
        {
          "output_type": "stream",
          "name": "stdout",
          "text": [
            "8\n",
            "97\n",
            "98\n",
            "tensor([0., 0., 0., 0., 0., 0., 0., 0., 0., 0., 0., 0., 0., 0., 0., 0., 0., 0.,\n",
            "        0., 0., 0., 0., 1., 0., 0., 0.])\n",
            "tensor([0., 0., 0., 0., 0., 0., 0., 0., 0., 0., 0., 0., 0., 0., 1., 0., 0., 0.,\n",
            "        0., 0., 0., 0., 0., 0., 0., 0.])\n",
            "tensor([1., 0., 0., 0., 0., 0., 0., 0., 0., 0., 0., 0., 0., 0., 0., 0., 0., 0.,\n",
            "        0., 0., 0., 0., 0., 0., 0., 0.])\n",
            "tensor([0., 0., 0., 0., 0., 0., 0., 0., 0., 0., 0., 0., 0., 0., 0., 0., 0., 0., 0., 0., 0., 0., 0., 0.,\n",
            "        0., 0.])\n"
          ]
        }
      ]
    },
    {
      "cell_type": "markdown",
      "metadata": {
        "id": "V5dVCToHWPVt"
      },
      "source": [
        "# Gradients"
      ]
    },
    {
      "cell_type": "markdown",
      "metadata": {
        "id": "ciiNVPuOWPVt"
      },
      "source": [
        "### 4. Generate gradient (1 point).\n",
        "\n",
        "For 2-dimensional tensor `tr`, calculate a gradient of $\\sum\\log tr_{ij}$. Note, that you're provided with dimensions and interval, and not the `tr` inself:\n",
        "\n",
        "- `dims` is a tuple, so that `tr.size()` equals `dims`,\n",
        "- `lims` is an interval, so that elements of `tr` are integers, uniformly sampled from `[lims[0], lims[1])` interval (note, that lims[1] is **not** included).\n",
        "\n",
        "Result must be a tensor of the same shape as `tr` (namely, `dims`), containing gradients of the following function:\n",
        "\n",
        "$$\\sum_{ij}\\log tr_{ij}.$$\n",
        "\n",
        "and generated `tr` itself.\n",
        "\n",
        "Result **will be tested against multiple random combinations of input tensor dimensions ($10 \\leq n < 100 $) and sampling interval (`lims[0]=1`, `10 <= lims[1] < 100`)**.\n",
        "\n",
        "**Hint**: think on how you can validate the solution yourself, given that gradient can be computed manually on paper.\n",
        "\n",
        "Example of input parameters: `generate_grad((2, 5), (1, 10))` means that:\n",
        "* dimension of the input / output tensor are (2, 5)\n",
        "* the generated tensor will contain random numbers from 1 to 9"
      ]
    },
    {
      "cell_type": "code",
      "execution_count": 90,
      "metadata": {
        "tags": [
          "solution"
        ],
        "id": "3k-U-kiiWPVu"
      },
      "outputs": [],
      "source": [
        "def generate_grad(dims, lims):\n",
        "    \"\"\"Generate gradient of `log(x)`.\"\"\"\n",
        "    # generate tr first\n",
        "    tr = torch.distributions.uniform.Uniform(lims[0], lims[1]).sample(dims).requires_grad_()\n",
        "\n",
        "    # gradient calculation\n",
        "    torch.log(tr).sum().backward()\n",
        "\n",
        "    return tr.grad, tr"
      ]
    },
    {
      "cell_type": "code",
      "execution_count": 91,
      "metadata": {
        "tags": [
          "validation"
        ],
        "id": "MPOfA3yjWPVu"
      },
      "outputs": [],
      "source": [
        "PROBLEM_ID = 4\n",
        "\n",
        "if TEST:\n",
        "    total_grade += solutions.check(STUDENT, PROBLEM_ID, generate_grad)"
      ]
    },
    {
      "cell_type": "code",
      "source": [
        "if not TEST:\n",
        "  tr_grad, tr = generate_grad((2, 5), (1,10))\n",
        "  print(tr.size())\n",
        "  print(tr_grad.shape)\n",
        "  print(tr)\n",
        "  print(tr_grad)\n",
        "  print(torch.pow(tr, -1))\n",
        "  print((tr_grad == torch.pow(tr, -1)).all())"
      ],
      "metadata": {
        "colab": {
          "base_uri": "https://localhost:8080/"
        },
        "id": "VmALmhrQOnSh",
        "outputId": "598ad237-dfac-4bf2-edbe-51e262ddbdc5"
      },
      "execution_count": 92,
      "outputs": [
        {
          "output_type": "stream",
          "name": "stdout",
          "text": [
            "torch.Size([2, 5])\n",
            "torch.Size([2, 5])\n",
            "tensor([[1.9558, 8.3121, 4.0961, 1.5832, 5.8057],\n",
            "        [4.4353, 1.5636, 2.5676, 2.1351, 8.5607]], requires_grad=True)\n",
            "tensor([[0.5113, 0.1203, 0.2441, 0.6316, 0.1722],\n",
            "        [0.2255, 0.6395, 0.3895, 0.4684, 0.1168]])\n",
            "tensor([[0.5113, 0.1203, 0.2441, 0.6316, 0.1722],\n",
            "        [0.2255, 0.6395, 0.3895, 0.4684, 0.1168]], grad_fn=<PowBackward0>)\n",
            "tensor(True)\n"
          ]
        }
      ]
    },
    {
      "cell_type": "markdown",
      "metadata": {
        "tags": [
          "problem"
        ],
        "id": "5ocBujSxWPVv"
      },
      "source": [
        "### 5. Find a minimum (2 points, manually graded).\n",
        "\n",
        "Consider the following scalar function:\n",
        "\n",
        "$$\n",
        "f(x) = ax^2 + bx + c\n",
        "$$\n",
        "\n",
        "Given the $a,b,c$, find $x$, which minimizes $f(x)$. Note this:\n",
        "\n",
        "- $a,b,c$ are fixed, and generated in such a way, that minimum always exists ($f(x)$ is convex),\n",
        "- $x$ is a scalar value, i.e. 0-dimensional tensor.\n",
        "\n",
        "**Hint:** stop for a second to think about which tensor must contain `requires_grad` and on which scalar should `.backward()` be called."
      ]
    },
    {
      "cell_type": "code",
      "execution_count": 105,
      "metadata": {
        "ExecuteTime": {
          "end_time": "2019-11-13T23:15:11.348224Z",
          "start_time": "2019-11-13T23:15:11.334569Z"
        },
        "tags": [
          "solution"
        ],
        "id": "syZnk2DLWPVv"
      },
      "outputs": [],
      "source": [
        "def generate_coeffs():\n",
        "    a = torch.rand(size=()) * 10\n",
        "    b = -10 + torch.rand(size=()) * 10\n",
        "    c = -10 + torch.rand(size=()) * 10\n",
        "    return a, b, c\n",
        "\n",
        "def func(x, a, b, c):\n",
        "    return x.pow(2) * a + x * b + c"
      ]
    },
    {
      "cell_type": "code",
      "execution_count": 112,
      "metadata": {
        "ExecuteTime": {
          "end_time": "2019-11-13T23:25:50.106449Z",
          "start_time": "2019-11-13T23:25:50.095086Z"
        },
        "tags": [
          "solution"
        ],
        "id": "gUOiVeZQWPVv",
        "colab": {
          "base_uri": "https://localhost:8080/"
        },
        "outputId": "05163d8a-ea20-4b93-a5c7-e2f10b359e1f"
      },
      "outputs": [
        {
          "output_type": "stream",
          "name": "stdout",
          "text": [
            "Epoch 0: f(x = 45.39131164550781) = 1309.625244140625\n",
            "Epoch 1: f(x = 40.44829559326172) = 1013.71923828125\n",
            "Epoch 2: f(x = 36.091949462890625) = 783.884765625\n",
            "Epoch 3: f(x = 32.25263977050781) = 605.3692626953125\n",
            "Epoch 4: f(x = 28.869003295898438) = 466.7137145996094\n",
            "Epoch 5: f(x = 25.8869571685791) = 359.01788330078125\n",
            "Epoch 6: f(x = 23.258838653564453) = 275.3690185546875\n",
            "Epoch 7: f(x = 20.94264030456543) = 210.3977508544922\n",
            "Epoch 8: f(x = 18.901342391967773) = 159.9336700439453\n",
            "Epoch 9: f(x = 17.102319717407227) = 120.73748016357422\n",
            "Epoch 10: f(x = 15.516815185546875) = 90.29327392578125\n",
            "Epoch 11: f(x = 14.119487762451172) = 66.64681243896484\n",
            "Epoch 12: f(x = 12.888004302978516) = 48.2802619934082\n",
            "Epoch 13: f(x = 11.802680015563965) = 34.01470947265625\n",
            "Epoch 14: f(x = 10.846168518066406) = 22.934436798095703\n",
            "Epoch 15: f(x = 10.003182411193848) = 14.328243255615234\n",
            "Epoch 16: f(x = 9.260246276855469) = 7.643688678741455\n",
            "Epoch 17: f(x = 8.605486869812012) = 2.451694965362549\n",
            "Epoch 18: f(x = 8.028438568115234) = -1.5809931755065918\n",
            "Epoch 19: f(x = 7.5198774337768555) = -4.713241100311279\n",
            "Epoch 20: f(x = 7.0716753005981445) = -7.146102428436279\n",
            "Epoch 21: f(x = 6.676668643951416) = -9.035741806030273\n",
            "Epoch 22: f(x = 6.328543663024902) = -10.503450393676758\n",
            "Epoch 23: f(x = 6.0217366218566895) = -11.643442153930664\n",
            "Epoch 24: f(x = 5.751343250274658) = -12.528888702392578\n",
            "Epoch 25: f(x = 5.5130414962768555) = -13.216625213623047\n",
            "Epoch 26: f(x = 5.303022861480713) = -13.750802993774414\n",
            "Epoch 27: f(x = 5.117930889129639) = -14.165706634521484\n",
            "Epoch 28: f(x = 4.954806327819824) = -14.487966537475586\n",
            "Epoch 29: f(x = 4.811042785644531) = -14.738271713256836\n",
            "Epoch 30: f(x = 4.684341907501221) = -14.932685852050781\n",
            "Epoch 31: f(x = 4.572678565979004) = -15.083690643310547\n",
            "Epoch 32: f(x = 4.474267959594727) = -15.200979232788086\n",
            "Epoch 33: f(x = 4.387537479400635) = -15.292078018188477\n",
            "Epoch 34: f(x = 4.311100959777832) = -15.362836837768555\n",
            "Epoch 35: f(x = 4.243736267089844) = -15.417793273925781\n",
            "Epoch 36: f(x = 4.184366703033447) = -15.460481643676758\n",
            "Epoch 37: f(x = 4.132043361663818) = -15.493637084960938\n",
            "Epoch 38: f(x = 4.085930347442627) = -15.519390106201172\n",
            "Epoch 39: f(x = 4.045289993286133) = -15.539392471313477\n",
            "Epoch 40: f(x = 4.0094733238220215) = -15.554929733276367\n",
            "Epoch 41: f(x = 3.977907419204712) = -15.566993713378906\n",
            "Epoch 42: f(x = 3.9500880241394043) = -15.57636833190918\n",
            "Epoch 43: f(x = 3.925570487976074) = -15.583648681640625\n",
            "Epoch 44: f(x = 3.9039628505706787) = -15.589302062988281\n",
            "Epoch 45: f(x = 3.8849196434020996) = -15.593694686889648\n",
            "Epoch 46: f(x = 3.8681366443634033) = -15.597105026245117\n",
            "Epoch 47: f(x = 3.8533456325531006) = -15.599754333496094\n",
            "Epoch 48: f(x = 3.8403100967407227) = -15.601812362670898\n",
            "Epoch 49: f(x = 3.8288216590881348) = -15.603410720825195\n",
            "Epoch 50: f(x = 3.8186967372894287) = -15.604654312133789\n",
            "Epoch 51: f(x = 3.8097734451293945) = -15.605615615844727\n",
            "Epoch 52: f(x = 3.8019092082977295) = -15.606365203857422\n",
            "Epoch 53: f(x = 3.794978380203247) = -15.606948852539062\n",
            "Epoch 54: f(x = 3.788870096206665) = -15.607398986816406\n",
            "Epoch 55: f(x = 3.783486843109131) = -15.607749938964844\n",
            "Epoch 56: f(x = 3.778742551803589) = -15.608024597167969\n",
            "Epoch 57: f(x = 3.7745611667633057) = -15.608234405517578\n",
            "Epoch 58: f(x = 3.770876169204712) = -15.608400344848633\n",
            "Epoch 59: f(x = 3.7676284313201904) = -15.608528137207031\n",
            "Epoch 60: f(x = 3.764766216278076) = -15.608627319335938\n",
            "Epoch 61: f(x = 3.7622437477111816) = -15.60870361328125\n",
            "Epoch 62: f(x = 3.7600207328796387) = -15.608762741088867\n",
            "Epoch 63: f(x = 3.758061408996582) = -15.608810424804688\n",
            "Epoch 64: f(x = 3.7563347816467285) = -15.608846664428711\n",
            "Epoch 65: f(x = 3.7548129558563232) = -15.608875274658203\n",
            "Epoch 66: f(x = 3.753471851348877) = -15.608896255493164\n",
            "Epoch 67: f(x = 3.7522897720336914) = -15.60891342163086\n",
            "Epoch 68: f(x = 3.7512481212615967) = -15.608924865722656\n",
            "Epoch 69: f(x = 3.7503299713134766) = -15.608936309814453\n",
            "Epoch 70: f(x = 3.749520778656006) = -15.608943939208984\n",
            "Epoch 71: f(x = 3.748807668685913) = -15.608949661254883\n",
            "Epoch 72: f(x = 3.7481791973114014) = -15.608955383300781\n",
            "Epoch 73: f(x = 3.7476253509521484) = -15.608959197998047\n",
            "Epoch 74: f(x = 3.7471373081207275) = -15.60896110534668\n",
            "Epoch 75: f(x = 3.7467072010040283) = -15.608964920043945\n",
            "Epoch 76: f(x = 3.746328115463257) = -15.608964920043945\n",
            "Epoch 77: f(x = 3.7459938526153564) = -15.608966827392578\n",
            "Epoch 78: f(x = 3.745699405670166) = -15.608966827392578\n",
            "Epoch 79: f(x = 3.7454397678375244) = -15.608968734741211\n",
            "Epoch 80: f(x = 3.745211124420166) = -15.608970642089844\n",
            "Epoch 81: f(x = 3.745009660720825) = -15.608970642089844\n",
            "Epoch 82: f(x = 3.7448320388793945) = -15.608970642089844\n",
            "Epoch 83: f(x = 3.744675397872925) = -15.608970642089844\n",
            "Epoch 84: f(x = 3.744537353515625) = -15.608970642089844\n",
            "Epoch 85: f(x = 3.744415760040283) = -15.608972549438477\n",
            "Epoch 86: f(x = 3.7443084716796875) = -15.608970642089844\n",
            "Epoch 87: f(x = 3.7442140579223633) = -15.608970642089844\n",
            "Epoch 88: f(x = 3.744130849838257) = -15.608970642089844\n",
            "Epoch 89: f(x = 3.7440574169158936) = -15.608972549438477\n",
            "Epoch 90: f(x = 3.743992805480957) = -15.608972549438477\n",
            "Epoch 91: f(x = 3.7439358234405518) = -15.608972549438477\n",
            "Epoch 92: f(x = 3.7438855171203613) = -15.608970642089844\n",
            "Epoch 93: f(x = 3.7438411712646484) = -15.608970642089844\n",
            "Epoch 94: f(x = 3.743802070617676) = -15.608972549438477\n",
            "Epoch 95: f(x = 3.743767738342285) = -15.608972549438477\n",
            "Epoch 96: f(x = 3.7437374591827393) = -15.608972549438477\n",
            "Epoch 97: f(x = 3.74371075630188) = -15.608970642089844\n",
            "Epoch 98: f(x = 3.743687152862549) = -15.608970642089844\n",
            "Epoch 99: f(x = 3.743666410446167) = -15.608970642089844\n"
          ]
        }
      ],
      "source": [
        "EPOCHS = 100 #20\n",
        "LR = 1e-1\n",
        "STARTING_VAL = 51. # Consider choosing different starting values for x to speed-up the optimization\n",
        "\n",
        "# Initialize x, a, b, c\n",
        "x = torch.tensor(STARTING_VAL, requires_grad=True)\n",
        "a, b, c = generate_coeffs()\n",
        "\n",
        "# Collect f(x) values during training for visuzalition later on\n",
        "f_vals = []\n",
        "\n",
        "for i in range(EPOCHS):\n",
        "    # Your code goes here\n",
        "    f = func(x, a, b, c)\n",
        "    f.backward()\n",
        "\n",
        "    f_vals.append(f.item())\n",
        "\n",
        "    with torch.no_grad():\n",
        "        x.sub_(LR * x.grad)\n",
        "    x.grad.zero_()\n",
        "\n",
        "    print(f\"Epoch {i}: f(x = {x}) = {f_vals[-1]}\")\n"
      ]
    },
    {
      "cell_type": "code",
      "execution_count": 113,
      "metadata": {
        "ExecuteTime": {
          "end_time": "2019-11-13T23:26:15.085855Z",
          "start_time": "2019-11-13T23:26:15.078760Z"
        },
        "tags": [
          "solution"
        ],
        "id": "_zpmvNoyWPVw",
        "colab": {
          "base_uri": "https://localhost:8080/",
          "height": 517
        },
        "outputId": "6500eacd-331c-4ec8-9f99-b2cb7a2e6b32"
      },
      "outputs": [
        {
          "output_type": "display_data",
          "data": {
            "text/plain": [
              "<Figure size 600x600 with 1 Axes>"
            ],
            "image/png": "[encoded data removed]"
          },
          "metadata": {}
        }
      ],
      "source": [
        "if f_vals:\n",
        "    grid = np.linspace(-5, 5, 100)\n",
        "    plt.plot(grid, np.square(grid) * a.item() + grid * b.item() + c.item())\n",
        "    plt.hlines(f_vals[-1], -5, 5, \"firebrick\", \"--\", linewidth=1)"
      ]
    },
    {
      "cell_type": "code",
      "execution_count": 99,
      "metadata": {
        "tags": [
          "validation"
        ],
        "id": "r7Hz05x6WPVw"
      },
      "outputs": [],
      "source": [
        "PROBLEM_ID = 5\n",
        "GRADE = 0\n",
        "\n",
        "if TEST:\n",
        "    total_grade += GRADE"
      ]
    },
    {
      "cell_type": "code",
      "execution_count": 100,
      "metadata": {
        "ExecuteTime": {
          "end_time": "2019-11-13T23:48:26.479012Z",
          "start_time": "2019-11-13T23:48:26.459417Z"
        },
        "tags": [
          "validation"
        ],
        "id": "bCVR5G2KWPVw"
      },
      "outputs": [],
      "source": [
        "if TEST:\n",
        "    print(f\"{STUDENT}: {int(100 * total_grade / MAX_POINTS)}\")"
      ]
    },
    {
      "cell_type": "code",
      "execution_count": 114,
      "metadata": {
        "id": "JQbByV6NWPVw",
        "colab": {
          "base_uri": "https://localhost:8080/"
        },
        "outputId": "be1001ba-e207-4400-ee43-47d306477660"
      },
      "outputs": [
        {
          "output_type": "stream",
          "name": "stdout",
          "text": [
            "x_min theory: 3.7435126304626465\n",
            "f_min theory: -15.608972549438477\n",
            "x_min grad: 3.743666410446167\n",
            "f_min grad: -15.608970642089844\n"
          ]
        }
      ],
      "source": [
        "if not TEST:\n",
        "  x_min = -b/(2*a)\n",
        "  f_min = func(x_min, a, b, c)\n",
        "  print(f'x_min theory: {x_min}')\n",
        "  print(f'f_min theory: {f_min}')\n",
        "  print(f'x_min grad: {x}')\n",
        "  print(f'f_min grad: {f_vals[-1]}')"
      ]
    }
  ],
  "metadata": {
    "@webio": {
      "lastCommId": null,
      "lastKernelId": null
    },
    "celltoolbar": "Tags",
    "kernelspec": {
      "display_name": "Python 3",
      "language": "python",
      "name": "python3"
    },
    "language_info": {
      "codemirror_mode": {
        "name": "ipython",
        "version": 3
      },
      "file_extension": ".py",
      "mimetype": "text/x-python",
      "name": "python",
      "nbconvert_exporter": "python",
      "pygments_lexer": "ipython3",
      "version": "3.8.12"
    },
    "colab": {
      "provenance": []
    }
  },
  "nbformat": 4,
  "nbformat_minor": 0
}
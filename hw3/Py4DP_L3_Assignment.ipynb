{
  "cells": [
    {
      "cell_type": "markdown",
      "metadata": {
        "id": "rz-YSbGAWPVQ"
      },
      "source": [
        "# Notes\n",
        "\n",
        "Different problems give different number of points: 2, 3 or 4.\n",
        "\n",
        "Please, fill `STUDENT` variable with your name, so that we call collect the results automatically. Each problem contains specific validation details. We will do our best to review your assignments, but please keep in mind, that for this assignment automatic grade (between $0$ an $1$) is the primary source of ground truth."
      ]
    },
    {
      "cell_type": "code",
      "execution_count": 1,
      "metadata": {
        "ExecuteTime": {
          "end_time": "2019-11-13T22:00:31.331179Z",
          "start_time": "2019-11-13T22:00:30.492519Z"
        },
        "scrolled": true,
        "id": "7TQoQmwiWPVd",
        "outputId": "bab7acf7-f3a9-4546-9b9d-e1ecf8c696db",
        "colab": {
          "base_uri": "https://localhost:8080/"
        }
      },
      "outputs": [
        {
          "output_type": "stream",
          "name": "stdout",
          "text": [
            "Populating the interactive namespace from numpy and matplotlib\n"
          ]
        }
      ],
      "source": [
        "%pylab inline\n",
        "plt.style.use(\"bmh\")"
      ]
    },
    {
      "cell_type": "code",
      "execution_count": 2,
      "metadata": {
        "ExecuteTime": {
          "end_time": "2019-11-13T22:00:32.020415Z",
          "start_time": "2019-11-13T22:00:32.015416Z"
        },
        "id": "JE0Vzfz8WPVf"
      },
      "outputs": [],
      "source": [
        "plt.rcParams[\"figure.figsize\"] = (6,6)"
      ]
    },
    {
      "cell_type": "code",
      "execution_count": 3,
      "metadata": {
        "ExecuteTime": {
          "end_time": "2019-11-13T22:00:34.357252Z",
          "start_time": "2019-11-13T22:00:32.305471Z"
        },
        "scrolled": true,
        "id": "xP2r557ZWPVg"
      },
      "outputs": [],
      "source": [
        "import numpy as np\n",
        "import torch"
      ]
    },
    {
      "cell_type": "code",
      "execution_count": 4,
      "metadata": {
        "ExecuteTime": {
          "end_time": "2019-11-13T22:11:54.201123Z",
          "start_time": "2019-11-13T22:11:54.196430Z"
        },
        "id": "a0RSIS9yWPVh"
      },
      "outputs": [],
      "source": [
        "STUDENT = \"Amit Zulan, Ophir Turetz\"\n",
        "ASSIGNMENT = 3\n",
        "TEST = False"
      ]
    },
    {
      "cell_type": "code",
      "execution_count": 5,
      "metadata": {
        "id": "VexDsWIVWPVh"
      },
      "outputs": [],
      "source": [
        "if TEST:\n",
        "    import solutions\n",
        "    total_grade = 0\n",
        "    MAX_POINTS = 11"
      ]
    },
    {
      "cell_type": "markdown",
      "metadata": {
        "id": "m5CjjHoBWPVi"
      },
      "source": [
        "# Basic PyTorch"
      ]
    },
    {
      "cell_type": "markdown",
      "metadata": {
        "tags": [
          "problem"
        ],
        "id": "5efgHoKkWPVj"
      },
      "source": [
        "### 1. ReLU activation (2 points).\n",
        "\n",
        "ReLU is the most commonly used activation function in many deep learning application. It's defined as\n",
        "\n",
        "$$\n",
        "ReLU(x) = \\max(0, x).\n",
        "$$\n",
        "\n",
        "Input and output are tensors.\\\n",
        "Output must be of the same shape as input, and **will be tested against three random combinations of input tensor dimensions ($100 \\leq n < 1000 $)**, while values of the input are drawn from standard normal distribution. Number of dimensions of the input will also be selected randomly and is either 1, 2 or 3."
      ]
    },
    {
      "cell_type": "code",
      "execution_count": 6,
      "metadata": {
        "tags": [
          "solution"
        ],
        "id": "Z8AtXltCWPVk"
      },
      "outputs": [],
      "source": [
        "def relu(arr):\n",
        "    # your code goes here\n",
        "    return torch.maximum(arr, torch.tensor(0))"
      ]
    },
    {
      "cell_type": "code",
      "execution_count": 7,
      "metadata": {
        "tags": [
          "validation"
        ],
        "id": "NF72DX4LWPVl"
      },
      "outputs": [],
      "source": [
        "PROBLEM_ID = 1\n",
        "\n",
        "if TEST:\n",
        "    total_grade += solutions.check(STUDENT, PROBLEM_ID, relu)"
      ]
    },
    {
      "cell_type": "code",
      "source": [
        "if not TEST:\n",
        "  a = torch.tensor([1, 2, -1])\n",
        "  b = torch.tensor([[0.1, -1.2], [-2.2, -3.1], [4.9, 5.2]])\n",
        "  print(torch.maximum(a, torch.tensor(0)))\n",
        "  print(torch.maximum(b, torch.tensor(0)))\n",
        "  print(relu(a))\n",
        "  print(relu(b))"
      ],
      "metadata": {
        "colab": {
          "base_uri": "https://localhost:8080/"
        },
        "id": "S5Z4IBzNescB",
        "outputId": "13b00f0b-15df-4a89-8f9e-031f951a30a4"
      },
      "execution_count": 8,
      "outputs": [
        {
          "output_type": "stream",
          "name": "stdout",
          "text": [
            "tensor([1, 2, 0])\n",
            "tensor([[0.1000, 0.0000],\n",
            "        [0.0000, 0.0000],\n",
            "        [4.9000, 5.2000]])\n",
            "tensor([1, 2, 0])\n",
            "tensor([[0.1000, 0.0000],\n",
            "        [0.0000, 0.0000],\n",
            "        [4.9000, 5.2000]])\n"
          ]
        }
      ]
    },
    {
      "cell_type": "markdown",
      "metadata": {
        "tags": [
          "problem"
        ],
        "id": "pWleoySDWPVp"
      },
      "source": [
        "### 2. Mean squared error (2 points).\n",
        "\n",
        "In this problem you need to calculate MSE for a pair of tensors `y_true` and `y_pred`. MSE is defined as usual:\n",
        "\n",
        "$$\n",
        "L_{MSE} = \\frac{1}{N} \\sum_i \\left(y_i - \\hat y_i\\right)^2\n",
        "$$\n",
        "\n",
        "Note, however, that `y_true` and `y_pred`may be of **different shape**. While `y_true` is always $(N,)$, `y_pred` may be $(N,1)$, $(1, N)$ or $(N,)$. Input values are drawn from standard normal distribution and **shape is selected randomly ($100 \\leq n < 1000 $)**."
      ]
    },
    {
      "cell_type": "code",
      "execution_count": 9,
      "metadata": {
        "tags": [
          "solution"
        ],
        "id": "z9_jWN9vWPVq"
      },
      "outputs": [],
      "source": [
        "def mse(y_true, y_pred):\n",
        "    # your code goes here\n",
        "    return torch.mean(torch.square(y_true - y_pred.reshape(-1)))"
      ]
    },
    {
      "cell_type": "code",
      "execution_count": 10,
      "metadata": {
        "tags": [
          "validation"
        ],
        "id": "KVVKtQ-vWPVr"
      },
      "outputs": [],
      "source": [
        "PROBLEM_ID = 2\n",
        "\n",
        "if TEST:\n",
        "    total_grade += solutions.check(STUDENT, PROBLEM_ID, mse)"
      ]
    },
    {
      "cell_type": "code",
      "source": [
        "if not TEST:\n",
        "  print(torch.mean(torch.tensor([[1., 2], [3, 4], [5, 6]])))\n",
        "\n",
        "  N = 100\n",
        "  yt = torch.ones(N)\n",
        "  ypN = torch.ones(N)\n",
        "  ypN1 = torch.ones(N,1)\n",
        "  yp1N = torch.ones(1, N)\n",
        "  print(yt.shape)\n",
        "  print(ypN.shape)\n",
        "  print(ypN1.shape)\n",
        "  print(yp1N.shape)\n",
        "  print(ypN.reshape(-1).shape)\n",
        "  print(ypN1.reshape(-1).shape)\n",
        "  print(yp1N.reshape(-1).shape)\n",
        "\n",
        "  print()\n",
        "\n",
        "  print(mse(yt, ypN))\n",
        "  print(mse(yt, ypN1))\n",
        "  print(mse(yt, yp1N))"
      ],
      "metadata": {
        "colab": {
          "base_uri": "https://localhost:8080/"
        },
        "id": "aSSLbqC0f-xp",
        "outputId": "5d878561-9a04-419f-9774-a60c2cd28f51"
      },
      "execution_count": 11,
      "outputs": [
        {
          "output_type": "stream",
          "name": "stdout",
          "text": [
            "tensor(3.5000)\n",
            "torch.Size([100])\n",
            "torch.Size([100])\n",
            "torch.Size([100, 1])\n",
            "torch.Size([1, 100])\n",
            "torch.Size([100])\n",
            "torch.Size([100])\n",
            "torch.Size([100])\n",
            "\n",
            "tensor(0.)\n",
            "tensor(0.)\n",
            "tensor(0.)\n"
          ]
        }
      ]
    },
    {
      "cell_type": "markdown",
      "metadata": {
        "tags": [
          "problem"
        ],
        "id": "06h38EFQWPVr"
      },
      "source": [
        "### 3. Character-level encoding (4 points).\n",
        "\n",
        "In computations in general and in machine learning specifically letters cannot be used directly, as computers only know about numbers.\\\n",
        "Text data may be encoded in many different ways in **N**atural **L**anguage **P**rocessing (**NLP**) tasks.\n",
        "\n",
        "One of the simplest ways to encode letters is to use one-hot encoded representation, with letters being \"class labels\". A letter is represented by a tensor of shape $(26,)$.\n",
        "\n",
        "Then, for example, word \"python\" would be transformed into a tensor of shape $(6, 26)$ with all elements being $0$, except $(0, 15)\\sim p,\\,(1, 24)\\sim y,\\,(2, 19)\\sim t,...$ being $1$. A phrase would be represented with 3-dimensional tensor.\n",
        "\n",
        "In this problem your input is `words` - a list of strings (words) of length $N$.\\\n",
        "The only characters used are those from `string.ascii_lowercase`, and words are of different length $L_i$.\\\n",
        "You need to output a tensor that represents this list of words. Output must be of shape $(N, \\max(L_i), 26)$.\n",
        "\n",
        "Dimension 0 corresponds to words themselves, with `tensor[0]` being a represetation of `words[0]`. Note, that you need to use padding: although trivial in this case, you must remember, that tensor must accomodate for a longest word, thus dimension 1 is $\\max(L_i)$.\n",
        "\n",
        "Note also, that the only loop you need here is a loop over `words`, there's no need to loop over the resulting tensor.\n",
        "\n",
        "The result will be tested against three predefined lists of word, with all words being lowercase and containing only ASCII characters."
      ]
    },
    {
      "cell_type": "code",
      "execution_count": 25,
      "metadata": {
        "tags": [
          "solution"
        ],
        "id": "8LYQlaZ7WPVs"
      },
      "outputs": [],
      "source": [
        "def encode(words):\n",
        "    # your code goes here\n",
        "    N = len(words)\n",
        "    max_L = len(max(words, key = len))\n",
        "\n",
        "    output = torch.zeros(N, max_L, 26)\n",
        "\n",
        "    for idx, word in enumerate(words):\n",
        "\n",
        "      output[idx, torch.arange(len(word)), torch.tensor(list(word.encode('ascii'))) - torch.tensor(list('a'.encode('ascii')))] = 1\n",
        "      # output[idx, torch.arange(len(word)), [(ord(letter) - ord('a')) for letter in word]] = 1\n",
        "\n",
        "    return output"
      ]
    },
    {
      "cell_type": "code",
      "execution_count": 13,
      "metadata": {
        "tags": [
          "validation"
        ],
        "id": "HT_rQZ4tWPVs"
      },
      "outputs": [],
      "source": [
        "PROBLEM_ID = 3\n",
        "\n",
        "if TEST:\n",
        "    total_grade += solutions.check(STUDENT, PROBLEM_ID, encode)"
      ]
    },
    {
      "cell_type": "code",
      "source": [
        "if not TEST:\n",
        "  words = ['words', 'a', 'shalom']\n",
        "  print(len(max(['words', 'a', '12345678'], key = len)))\n",
        "  print(ord('a'))\n",
        "  print(ord('b'))\n",
        "  print(encode(words)[0][0])\n",
        "  print(encode(words)[0][1])\n",
        "  print(encode(words)[1][0])\n",
        "  print(encode(words)[1][1])\n",
        "  print(torch.tensor(list(words[0].encode('ascii'))) - torch.tensor(list('a'.encode('ascii'))))"
      ],
      "metadata": {
        "colab": {
          "base_uri": "https://localhost:8080/"
        },
        "id": "3kqeDo__7ybX",
        "outputId": "e39cc5b6-a7fa-4d34-f9b4-d331a4bd5d50"
      },
      "execution_count": 26,
      "outputs": [
        {
          "output_type": "stream",
          "name": "stdout",
          "text": [
            "8\n",
            "97\n",
            "98\n",
            "tensor([0., 0., 0., 0., 0., 0., 0., 0., 0., 0., 0., 0., 0., 0., 0., 0., 0., 0.,\n",
            "        0., 0., 0., 0., 1., 0., 0., 0.])\n",
            "tensor([0., 0., 0., 0., 0., 0., 0., 0., 0., 0., 0., 0., 0., 0., 1., 0., 0., 0.,\n",
            "        0., 0., 0., 0., 0., 0., 0., 0.])\n",
            "tensor([1., 0., 0., 0., 0., 0., 0., 0., 0., 0., 0., 0., 0., 0., 0., 0., 0., 0.,\n",
            "        0., 0., 0., 0., 0., 0., 0., 0.])\n",
            "tensor([0., 0., 0., 0., 0., 0., 0., 0., 0., 0., 0., 0., 0., 0., 0., 0., 0., 0., 0., 0., 0., 0., 0., 0.,\n",
            "        0., 0.])\n",
            "tensor([22, 14, 17,  3, 18])\n"
          ]
        }
      ]
    },
    {
      "cell_type": "markdown",
      "metadata": {
        "id": "V5dVCToHWPVt"
      },
      "source": [
        "# Gradients"
      ]
    },
    {
      "cell_type": "markdown",
      "metadata": {
        "id": "ciiNVPuOWPVt"
      },
      "source": [
        "### 4. Generate gradient (1 point).\n",
        "\n",
        "For 2-dimensional tensor `tr`, calculate a gradient of $\\sum\\log tr_{ij}$. Note, that you're provided with dimensions and interval, and not the `tr` inself:\n",
        "\n",
        "- `dims` is a tuple, so that `tr.size()` equals `dims`,\n",
        "- `lims` is an interval, so that elements of `tr` are integers, uniformly sampled from `[lims[0], lims[1])` interval (note, that lims[1] is **not** included).\n",
        "\n",
        "Result must be a tensor of the same shape as `tr` (namely, `dims`), containing gradients of the following function:\n",
        "\n",
        "$$\\sum_{ij}\\log tr_{ij}.$$\n",
        "\n",
        "and generated `tr` itself.\n",
        "\n",
        "Result **will be tested against multiple random combinations of input tensor dimensions ($10 \\leq n < 100 $) and sampling interval (`lims[0]=1`, `10 <= lims[1] < 100`)**.\n",
        "\n",
        "**Hint**: think on how you can validate the solution yourself, given that gradient can be computed manually on paper.\n",
        "\n",
        "Example of input parameters: `generate_grad((2, 5), (1, 10))` means that:\n",
        "* dimension of the input / output tensor are (2, 5)\n",
        "* the generated tensor will contain random numbers from 1 to 9"
      ]
    },
    {
      "cell_type": "code",
      "execution_count": null,
      "metadata": {
        "tags": [
          "solution"
        ],
        "id": "3k-U-kiiWPVu"
      },
      "outputs": [],
      "source": [
        "def generate_grad(dims, lims):\n",
        "    \"\"\"Generate gradient of `log(x)`.\"\"\"\n",
        "    # generate tr first\n",
        "    tr = torch.distributions.uniform.Uniform(lims[0], lims[1]).sample(dims).requires_grad_()\n",
        "\n",
        "    # gradient calculation\n",
        "    torch.log(tr).sum().backward()\n",
        "\n",
        "    return tr.grad, tr"
      ]
    },
    {
      "cell_type": "code",
      "execution_count": null,
      "metadata": {
        "tags": [
          "validation"
        ],
        "id": "MPOfA3yjWPVu"
      },
      "outputs": [],
      "source": [
        "PROBLEM_ID = 4\n",
        "\n",
        "if TEST:\n",
        "    total_grade += solutions.check(STUDENT, PROBLEM_ID, generate_grad)"
      ]
    },
    {
      "cell_type": "code",
      "source": [
        "if not TEST:\n",
        "  tr_grad, tr = generate_grad((2, 5), (1,10))\n",
        "  print(tr.size())\n",
        "  print(tr_grad.shape)\n",
        "  print(tr)\n",
        "  print(tr_grad)\n",
        "  print(torch.pow(tr, -1))\n",
        "  print((tr_grad == torch.pow(tr, -1)).all())"
      ],
      "metadata": {
        "colab": {
          "base_uri": "https://localhost:8080/"
        },
        "id": "VmALmhrQOnSh",
        "outputId": "2167f298-5e6e-4a0d-cb0d-b832d06e5e92"
      },
      "execution_count": null,
      "outputs": [
        {
          "output_type": "stream",
          "name": "stdout",
          "text": [
            "torch.Size([2, 5])\n",
            "torch.Size([2, 5])\n",
            "tensor([[6.2743, 8.8953, 1.2958, 8.8692, 8.6766],\n",
            "        [9.6475, 4.6253, 7.2180, 7.5339, 4.9094]], requires_grad=True)\n",
            "tensor([[0.1594, 0.1124, 0.7717, 0.1127, 0.1153],\n",
            "        [0.1037, 0.2162, 0.1385, 0.1327, 0.2037]])\n",
            "tensor([[0.1594, 0.1124, 0.7717, 0.1127, 0.1153],\n",
            "        [0.1037, 0.2162, 0.1385, 0.1327, 0.2037]], grad_fn=<PowBackward0>)\n",
            "tensor(True)\n"
          ]
        }
      ]
    },
    {
      "cell_type": "markdown",
      "metadata": {
        "tags": [
          "problem"
        ],
        "id": "5ocBujSxWPVv"
      },
      "source": [
        "### 5. Find a minimum (2 points, manually graded).\n",
        "\n",
        "Consider the following scalar function:\n",
        "\n",
        "$$\n",
        "f(x) = ax^2 + bx + c\n",
        "$$\n",
        "\n",
        "Given the $a,b,c$, find $x$, which minimizes $f(x)$. Note this:\n",
        "\n",
        "- $a,b,c$ are fixed, and generated in such a way, that minimum always exists ($f(x)$ is convex),\n",
        "- $x$ is a scalar value, i.e. 0-dimensional tensor.\n",
        "\n",
        "**Hint:** stop for a second to think about which tensor must contain `requires_grad` and on which scalar should `.backward()` be called."
      ]
    },
    {
      "cell_type": "code",
      "execution_count": null,
      "metadata": {
        "ExecuteTime": {
          "end_time": "2019-11-13T23:15:11.348224Z",
          "start_time": "2019-11-13T23:15:11.334569Z"
        },
        "tags": [
          "solution"
        ],
        "id": "syZnk2DLWPVv"
      },
      "outputs": [],
      "source": [
        "def generate_coeffs():\n",
        "    a = torch.rand(size=()) * 10\n",
        "    b = -10 + torch.rand(size=()) * 10\n",
        "    c = -10 + torch.rand(size=()) * 10\n",
        "    return a, b, c\n",
        "\n",
        "def func(x, a, b, c):\n",
        "    return x.pow(2) * a + x * b + c"
      ]
    },
    {
      "cell_type": "code",
      "execution_count": null,
      "metadata": {
        "ExecuteTime": {
          "end_time": "2019-11-13T23:25:50.106449Z",
          "start_time": "2019-11-13T23:25:50.095086Z"
        },
        "tags": [
          "solution"
        ],
        "id": "gUOiVeZQWPVv",
        "colab": {
          "base_uri": "https://localhost:8080/"
        },
        "outputId": "29884962-2e51-4cc1-c2e9-391fb286665b"
      },
      "outputs": [
        {
          "output_type": "stream",
          "name": "stdout",
          "text": [
            "Epoch 0: f(x = 9.16707992553711) = 10594.9794921875\n",
            "Epoch 1: f(x = 1.8503036499023438) = 314.6026916503906\n",
            "Epoch 2: f(x = 0.5705654621124268) = 0.10882854461669922\n",
            "Epoch 3: f(x = 0.3467331826686859) = -9.512053489685059\n",
            "Epoch 4: f(x = 0.30758386850357056) = -9.80637264251709\n",
            "Epoch 5: f(x = 0.3007364869117737) = -9.815376281738281\n",
            "Epoch 6: f(x = 0.29953885078430176) = -9.815651893615723\n",
            "Epoch 7: f(x = 0.29932937026023865) = -9.81566047668457\n",
            "Epoch 8: f(x = 0.2992927134037018) = -9.81566047668457\n",
            "Epoch 9: f(x = 0.2992863357067108) = -9.81566047668457\n",
            "Epoch 10: f(x = 0.2992852032184601) = -9.81566047668457\n",
            "Epoch 11: f(x = 0.29928502440452576) = -9.81566047668457\n",
            "Epoch 12: f(x = 0.299284964799881) = -9.81566047668457\n",
            "Epoch 13: f(x = 0.299284964799881) = -9.81566047668457\n",
            "Epoch 14: f(x = 0.299284964799881) = -9.81566047668457\n",
            "Epoch 15: f(x = 0.299284964799881) = -9.81566047668457\n",
            "Epoch 16: f(x = 0.299284964799881) = -9.81566047668457\n",
            "Epoch 17: f(x = 0.299284964799881) = -9.81566047668457\n",
            "Epoch 18: f(x = 0.299284964799881) = -9.81566047668457\n",
            "Epoch 19: f(x = 0.299284964799881) = -9.81566047668457\n",
            "Epoch 20: f(x = 0.299284964799881) = -9.81566047668457\n",
            "Epoch 21: f(x = 0.299284964799881) = -9.81566047668457\n",
            "Epoch 22: f(x = 0.299284964799881) = -9.81566047668457\n",
            "Epoch 23: f(x = 0.299284964799881) = -9.81566047668457\n",
            "Epoch 24: f(x = 0.299284964799881) = -9.81566047668457\n",
            "Epoch 25: f(x = 0.299284964799881) = -9.81566047668457\n",
            "Epoch 26: f(x = 0.299284964799881) = -9.81566047668457\n",
            "Epoch 27: f(x = 0.299284964799881) = -9.81566047668457\n",
            "Epoch 28: f(x = 0.299284964799881) = -9.81566047668457\n",
            "Epoch 29: f(x = 0.299284964799881) = -9.81566047668457\n",
            "Epoch 30: f(x = 0.299284964799881) = -9.81566047668457\n",
            "Epoch 31: f(x = 0.299284964799881) = -9.81566047668457\n",
            "Epoch 32: f(x = 0.299284964799881) = -9.81566047668457\n",
            "Epoch 33: f(x = 0.299284964799881) = -9.81566047668457\n",
            "Epoch 34: f(x = 0.299284964799881) = -9.81566047668457\n",
            "Epoch 35: f(x = 0.299284964799881) = -9.81566047668457\n",
            "Epoch 36: f(x = 0.299284964799881) = -9.81566047668457\n",
            "Epoch 37: f(x = 0.299284964799881) = -9.81566047668457\n",
            "Epoch 38: f(x = 0.299284964799881) = -9.81566047668457\n",
            "Epoch 39: f(x = 0.299284964799881) = -9.81566047668457\n",
            "Epoch 40: f(x = 0.299284964799881) = -9.81566047668457\n",
            "Epoch 41: f(x = 0.299284964799881) = -9.81566047668457\n",
            "Epoch 42: f(x = 0.299284964799881) = -9.81566047668457\n",
            "Epoch 43: f(x = 0.299284964799881) = -9.81566047668457\n",
            "Epoch 44: f(x = 0.299284964799881) = -9.81566047668457\n",
            "Epoch 45: f(x = 0.299284964799881) = -9.81566047668457\n",
            "Epoch 46: f(x = 0.299284964799881) = -9.81566047668457\n",
            "Epoch 47: f(x = 0.299284964799881) = -9.81566047668457\n",
            "Epoch 48: f(x = 0.299284964799881) = -9.81566047668457\n",
            "Epoch 49: f(x = 0.299284964799881) = -9.81566047668457\n",
            "Epoch 50: f(x = 0.299284964799881) = -9.81566047668457\n",
            "Epoch 51: f(x = 0.299284964799881) = -9.81566047668457\n",
            "Epoch 52: f(x = 0.299284964799881) = -9.81566047668457\n",
            "Epoch 53: f(x = 0.299284964799881) = -9.81566047668457\n",
            "Epoch 54: f(x = 0.299284964799881) = -9.81566047668457\n",
            "Epoch 55: f(x = 0.299284964799881) = -9.81566047668457\n",
            "Epoch 56: f(x = 0.299284964799881) = -9.81566047668457\n",
            "Epoch 57: f(x = 0.299284964799881) = -9.81566047668457\n",
            "Epoch 58: f(x = 0.299284964799881) = -9.81566047668457\n",
            "Epoch 59: f(x = 0.299284964799881) = -9.81566047668457\n",
            "Epoch 60: f(x = 0.299284964799881) = -9.81566047668457\n",
            "Epoch 61: f(x = 0.299284964799881) = -9.81566047668457\n",
            "Epoch 62: f(x = 0.299284964799881) = -9.81566047668457\n",
            "Epoch 63: f(x = 0.299284964799881) = -9.81566047668457\n",
            "Epoch 64: f(x = 0.299284964799881) = -9.81566047668457\n",
            "Epoch 65: f(x = 0.299284964799881) = -9.81566047668457\n",
            "Epoch 66: f(x = 0.299284964799881) = -9.81566047668457\n",
            "Epoch 67: f(x = 0.299284964799881) = -9.81566047668457\n",
            "Epoch 68: f(x = 0.299284964799881) = -9.81566047668457\n",
            "Epoch 69: f(x = 0.299284964799881) = -9.81566047668457\n",
            "Epoch 70: f(x = 0.299284964799881) = -9.81566047668457\n",
            "Epoch 71: f(x = 0.299284964799881) = -9.81566047668457\n",
            "Epoch 72: f(x = 0.299284964799881) = -9.81566047668457\n",
            "Epoch 73: f(x = 0.299284964799881) = -9.81566047668457\n",
            "Epoch 74: f(x = 0.299284964799881) = -9.81566047668457\n",
            "Epoch 75: f(x = 0.299284964799881) = -9.81566047668457\n",
            "Epoch 76: f(x = 0.299284964799881) = -9.81566047668457\n",
            "Epoch 77: f(x = 0.299284964799881) = -9.81566047668457\n",
            "Epoch 78: f(x = 0.299284964799881) = -9.81566047668457\n",
            "Epoch 79: f(x = 0.299284964799881) = -9.81566047668457\n",
            "Epoch 80: f(x = 0.299284964799881) = -9.81566047668457\n",
            "Epoch 81: f(x = 0.299284964799881) = -9.81566047668457\n",
            "Epoch 82: f(x = 0.299284964799881) = -9.81566047668457\n",
            "Epoch 83: f(x = 0.299284964799881) = -9.81566047668457\n",
            "Epoch 84: f(x = 0.299284964799881) = -9.81566047668457\n",
            "Epoch 85: f(x = 0.299284964799881) = -9.81566047668457\n",
            "Epoch 86: f(x = 0.299284964799881) = -9.81566047668457\n",
            "Epoch 87: f(x = 0.299284964799881) = -9.81566047668457\n",
            "Epoch 88: f(x = 0.299284964799881) = -9.81566047668457\n",
            "Epoch 89: f(x = 0.299284964799881) = -9.81566047668457\n",
            "Epoch 90: f(x = 0.299284964799881) = -9.81566047668457\n",
            "Epoch 91: f(x = 0.299284964799881) = -9.81566047668457\n",
            "Epoch 92: f(x = 0.299284964799881) = -9.81566047668457\n",
            "Epoch 93: f(x = 0.299284964799881) = -9.81566047668457\n",
            "Epoch 94: f(x = 0.299284964799881) = -9.81566047668457\n",
            "Epoch 95: f(x = 0.299284964799881) = -9.81566047668457\n",
            "Epoch 96: f(x = 0.299284964799881) = -9.81566047668457\n",
            "Epoch 97: f(x = 0.299284964799881) = -9.81566047668457\n",
            "Epoch 98: f(x = 0.299284964799881) = -9.81566047668457\n",
            "Epoch 99: f(x = 0.299284964799881) = -9.81566047668457\n"
          ]
        }
      ],
      "source": [
        "EPOCHS = 100 #20\n",
        "LR = 1e-1\n",
        "STARTING_VAL = 51. # Consider choosing different starting values for x to speed-up the optimization\n",
        "\n",
        "# Initialize x, a, b, c\n",
        "x = torch.tensor(STARTING_VAL, requires_grad=True)\n",
        "a, b, c = generate_coeffs()\n",
        "\n",
        "# Collect f(x) values during training for visuzalition later on\n",
        "x_vals = []\n",
        "f_vals = []\n",
        "\n",
        "for i in range(EPOCHS):\n",
        "    # Your code goes here\n",
        "    f = func(x, a, b, c)\n",
        "    f.backward()\n",
        "\n",
        "    x_vals.append(x.item())\n",
        "    f_vals.append(f.item())\n",
        "\n",
        "    with torch.no_grad():\n",
        "        x.sub_(LR * x.grad)\n",
        "    x.grad.zero_()\n",
        "\n",
        "    print(f\"Epoch {i}: f(x = {x}) = {f_vals[-1]}\")\n"
      ]
    },
    {
      "cell_type": "code",
      "execution_count": null,
      "metadata": {
        "ExecuteTime": {
          "end_time": "2019-11-13T23:26:15.085855Z",
          "start_time": "2019-11-13T23:26:15.078760Z"
        },
        "tags": [
          "solution"
        ],
        "id": "_zpmvNoyWPVw",
        "colab": {
          "base_uri": "https://localhost:8080/",
          "height": 517
        },
        "outputId": "2c5cb99c-6a9c-40f7-a25b-7b6091ee4a06"
      },
      "outputs": [
        {
          "output_type": "display_data",
          "data": {
            "text/plain": [
              "<Figure size 600x600 with 1 Axes>"
            ],
            "image/png": "[encoded data removed]"
          },
          "metadata": {}
        }
      ],
      "source": [
        "if f_vals:\n",
        "    grid = np.linspace(-5, 5, 100)\n",
        "    plt.plot(grid, np.square(grid) * a.item() + grid * b.item() + c.item())\n",
        "    plt.plot(x_vals[2:-30:10], f_vals[2:-30:10], 'ro')\n",
        "    plt.hlines(f_vals[-1], -5, 5, \"firebrick\", \"--\", linewidth=1)"
      ]
    },
    {
      "cell_type": "code",
      "execution_count": null,
      "metadata": {
        "tags": [
          "validation"
        ],
        "id": "r7Hz05x6WPVw"
      },
      "outputs": [],
      "source": [
        "PROBLEM_ID = 5\n",
        "GRADE = 0\n",
        "\n",
        "if TEST:\n",
        "    total_grade += GRADE"
      ]
    },
    {
      "cell_type": "code",
      "execution_count": null,
      "metadata": {
        "ExecuteTime": {
          "end_time": "2019-11-13T23:48:26.479012Z",
          "start_time": "2019-11-13T23:48:26.459417Z"
        },
        "tags": [
          "validation"
        ],
        "id": "bCVR5G2KWPVw"
      },
      "outputs": [],
      "source": [
        "if TEST:\n",
        "    print(f\"{STUDENT}: {int(100 * total_grade / MAX_POINTS)}\")"
      ]
    },
    {
      "cell_type": "code",
      "execution_count": null,
      "metadata": {
        "id": "JQbByV6NWPVw",
        "colab": {
          "base_uri": "https://localhost:8080/"
        },
        "outputId": "e7275887-afaa-4611-83c5-3c547b80e614"
      },
      "outputs": [
        {
          "output_type": "stream",
          "name": "stdout",
          "text": [
            "x_min theory: 0.299284964799881\n",
            "f_min theory: -9.81566047668457\n",
            "x_min grad: 0.299284964799881\n",
            "f_min grad: -9.81566047668457\n"
          ]
        }
      ],
      "source": [
        "if not TEST:\n",
        "  x_min = -b/(2*a)\n",
        "  f_min = func(x_min, a, b, c)\n",
        "  print(f'x_min theory: {x_min}')\n",
        "  print(f'f_min theory: {f_min}')\n",
        "  print(f'x_min grad: {x}')\n",
        "  print(f'f_min grad: {f_vals[-1]}')"
      ]
    }
  ],
  "metadata": {
    "@webio": {
      "lastCommId": null,
      "lastKernelId": null
    },
    "celltoolbar": "Tags",
    "kernelspec": {
      "display_name": "Python 3",
      "language": "python",
      "name": "python3"
    },
    "language_info": {
      "codemirror_mode": {
        "name": "ipython",
        "version": 3
      },
      "file_extension": ".py",
      "mimetype": "text/x-python",
      "name": "python",
      "nbconvert_exporter": "python",
      "pygments_lexer": "ipython3",
      "version": "3.8.12"
    },
    "colab": {
      "provenance": []
    }
  },
  "nbformat": 4,
  "nbformat_minor": 0
}
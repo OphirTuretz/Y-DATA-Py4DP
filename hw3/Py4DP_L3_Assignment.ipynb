{
  "cells": [
    {
      "cell_type": "markdown",
      "metadata": {
        "id": "rz-YSbGAWPVQ"
      },
      "source": [
        "# Notes\n",
        "\n",
        "Different problems give different number of points: 2, 3 or 4.\n",
        "\n",
        "Please, fill `STUDENT` variable with your name, so that we call collect the results automatically. Each problem contains specific validation details. We will do our best to review your assignments, but please keep in mind, that for this assignment automatic grade (between $0$ an $1$) is the primary source of ground truth."
      ]
    },
    {
      "cell_type": "code",
      "execution_count": 1,
      "metadata": {
        "ExecuteTime": {
          "end_time": "2019-11-13T22:00:31.331179Z",
          "start_time": "2019-11-13T22:00:30.492519Z"
        },
        "scrolled": true,
        "id": "7TQoQmwiWPVd",
        "outputId": "5937e3c9-f862-47b5-a76a-75b42261fd4e",
        "colab": {
          "base_uri": "https://localhost:8080/"
        }
      },
      "outputs": [
        {
          "output_type": "stream",
          "name": "stdout",
          "text": [
            "Populating the interactive namespace from numpy and matplotlib\n"
          ]
        }
      ],
      "source": [
        "%pylab inline\n",
        "plt.style.use(\"bmh\")"
      ]
    },
    {
      "cell_type": "code",
      "execution_count": 2,
      "metadata": {
        "ExecuteTime": {
          "end_time": "2019-11-13T22:00:32.020415Z",
          "start_time": "2019-11-13T22:00:32.015416Z"
        },
        "id": "JE0Vzfz8WPVf"
      },
      "outputs": [],
      "source": [
        "plt.rcParams[\"figure.figsize\"] = (6,6)"
      ]
    },
    {
      "cell_type": "code",
      "execution_count": 3,
      "metadata": {
        "ExecuteTime": {
          "end_time": "2019-11-13T22:00:34.357252Z",
          "start_time": "2019-11-13T22:00:32.305471Z"
        },
        "scrolled": true,
        "id": "xP2r557ZWPVg"
      },
      "outputs": [],
      "source": [
        "import numpy as np\n",
        "import torch"
      ]
    },
    {
      "cell_type": "code",
      "execution_count": 4,
      "metadata": {
        "ExecuteTime": {
          "end_time": "2019-11-13T22:11:54.201123Z",
          "start_time": "2019-11-13T22:11:54.196430Z"
        },
        "id": "a0RSIS9yWPVh"
      },
      "outputs": [],
      "source": [
        "STUDENT = \"Amit Zulan, Ophir Turetz\"\n",
        "ASSIGNMENT = 3\n",
        "TEST = False"
      ]
    },
    {
      "cell_type": "code",
      "execution_count": 5,
      "metadata": {
        "id": "VexDsWIVWPVh"
      },
      "outputs": [],
      "source": [
        "if TEST:\n",
        "    import solutions\n",
        "    total_grade = 0\n",
        "    MAX_POINTS = 11"
      ]
    },
    {
      "cell_type": "markdown",
      "metadata": {
        "id": "m5CjjHoBWPVi"
      },
      "source": [
        "# Basic PyTorch"
      ]
    },
    {
      "cell_type": "markdown",
      "metadata": {
        "tags": [
          "problem"
        ],
        "id": "5efgHoKkWPVj"
      },
      "source": [
        "### 1. ReLU activation (2 points).\n",
        "\n",
        "ReLU is the most commonly used activation function in many deep learning application. It's defined as\n",
        "\n",
        "$$\n",
        "ReLU(x) = \\max(0, x).\n",
        "$$\n",
        "\n",
        "Input and output are tensors.\\\n",
        "Output must be of the same shape as input, and **will be tested against three random combinations of input tensor dimensions ($100 \\leq n < 1000 $)**, while values of the input are drawn from standard normal distribution. Number of dimensions of the input will also be selected randomly and is either 1, 2 or 3."
      ]
    },
    {
      "cell_type": "code",
      "execution_count": 7,
      "metadata": {
        "tags": [
          "solution"
        ],
        "id": "Z8AtXltCWPVk"
      },
      "outputs": [],
      "source": [
        "def relu(arr):\n",
        "    # your code goes here\n",
        "    return torch.maximum(arr, torch.tensor(0))"
      ]
    },
    {
      "cell_type": "code",
      "execution_count": 8,
      "metadata": {
        "tags": [
          "validation"
        ],
        "id": "NF72DX4LWPVl"
      },
      "outputs": [],
      "source": [
        "PROBLEM_ID = 1\n",
        "\n",
        "if TEST:\n",
        "    total_grade += solutions.check(STUDENT, PROBLEM_ID, relu)"
      ]
    },
    {
      "cell_type": "code",
      "source": [
        "if not TEST:\n",
        "  a = torch.tensor([-6])\n",
        "  b = torch.tensor([1, 2, -1])\n",
        "  c = torch.tensor([[0.1, -1.2], [-2.2, -3.1], [4.9, 5.2]])\n",
        "\n",
        "  print('OK' if (relu(a) == torch.tensor([0])).all().item() else 'ERROR')\n",
        "  print('OK' if (relu(b) == torch.tensor([1, 2, 0])).all().item() else 'ERROR')\n",
        "  print('OK' if (relu(c) == torch.tensor([[0.1, 0], [0, 0], [4.9, 5.2]])).all().item() else 'ERROR')"
      ],
      "metadata": {
        "colab": {
          "base_uri": "https://localhost:8080/"
        },
        "id": "S5Z4IBzNescB",
        "outputId": "d71e0012-f8a0-4fe7-af5b-9975756a621a"
      },
      "execution_count": 24,
      "outputs": [
        {
          "output_type": "stream",
          "name": "stdout",
          "text": [
            "OK\n",
            "OK\n",
            "OK\n"
          ]
        }
      ]
    },
    {
      "cell_type": "markdown",
      "metadata": {
        "tags": [
          "problem"
        ],
        "id": "pWleoySDWPVp"
      },
      "source": [
        "### 2. Mean squared error (2 points).\n",
        "\n",
        "In this problem you need to calculate MSE for a pair of tensors `y_true` and `y_pred`. MSE is defined as usual:\n",
        "\n",
        "$$\n",
        "L_{MSE} = \\frac{1}{N} \\sum_i \\left(y_i - \\hat y_i\\right)^2\n",
        "$$\n",
        "\n",
        "Note, however, that `y_true` and `y_pred`may be of **different shape**. While `y_true` is always $(N,)$, `y_pred` may be $(N,1)$, $(1, N)$ or $(N,)$. Input values are drawn from standard normal distribution and **shape is selected randomly ($100 \\leq n < 1000 $)**."
      ]
    },
    {
      "cell_type": "code",
      "execution_count": 29,
      "metadata": {
        "tags": [
          "solution"
        ],
        "id": "z9_jWN9vWPVq"
      },
      "outputs": [],
      "source": [
        "def mse(y_true, y_pred):\n",
        "    # your code goes here\n",
        "    return torch.mean(torch.square(y_true - y_pred.reshape(-1)))"
      ]
    },
    {
      "cell_type": "code",
      "execution_count": 30,
      "metadata": {
        "tags": [
          "validation"
        ],
        "id": "KVVKtQ-vWPVr"
      },
      "outputs": [],
      "source": [
        "PROBLEM_ID = 2\n",
        "\n",
        "if TEST:\n",
        "    total_grade += solutions.check(STUDENT, PROBLEM_ID, mse)"
      ]
    },
    {
      "cell_type": "code",
      "source": [
        "if not TEST:\n",
        "\n",
        "  yt = torch.arange(start = 1, end = 20, step=0.5)\n",
        "  ypN = yt + torch.tensor(0.5)\n",
        "  ypN1 = ypN.reshape(-1, 1)\n",
        "  yp1N = ypN.reshape(1, -1)\n",
        "\n",
        "  print('OK' if (mse(yt, ypN).item() == 0.25) else 'ERROR')\n",
        "  print('OK' if (mse(yt, ypN1).item() == 0.25) else 'ERROR')\n",
        "  print('OK' if (mse(yt, yp1N).item() == 0.25) else 'ERROR')"
      ],
      "metadata": {
        "colab": {
          "base_uri": "https://localhost:8080/"
        },
        "id": "aSSLbqC0f-xp",
        "outputId": "faf7bb8b-649b-4b00-f5c8-73a39ce29fd4"
      },
      "execution_count": 31,
      "outputs": [
        {
          "output_type": "stream",
          "name": "stdout",
          "text": [
            "OK\n",
            "OK\n",
            "OK\n"
          ]
        }
      ]
    },
    {
      "cell_type": "markdown",
      "metadata": {
        "tags": [
          "problem"
        ],
        "id": "06h38EFQWPVr"
      },
      "source": [
        "### 3. Character-level encoding (4 points).\n",
        "\n",
        "In computations in general and in machine learning specifically letters cannot be used directly, as computers only know about numbers.\\\n",
        "Text data may be encoded in many different ways in **N**atural **L**anguage **P**rocessing (**NLP**) tasks.\n",
        "\n",
        "One of the simplest ways to encode letters is to use one-hot encoded representation, with letters being \"class labels\". A letter is represented by a tensor of shape $(26,)$.\n",
        "\n",
        "Then, for example, word \"python\" would be transformed into a tensor of shape $(6, 26)$ with all elements being $0$, except $(0, 15)\\sim p,\\,(1, 24)\\sim y,\\,(2, 19)\\sim t,...$ being $1$. A phrase would be represented with 3-dimensional tensor.\n",
        "\n",
        "In this problem your input is `words` - a list of strings (words) of length $N$.\\\n",
        "The only characters used are those from `string.ascii_lowercase`, and words are of different length $L_i$.\\\n",
        "You need to output a tensor that represents this list of words. Output must be of shape $(N, \\max(L_i), 26)$.\n",
        "\n",
        "Dimension 0 corresponds to words themselves, with `tensor[0]` being a represetation of `words[0]`. Note, that you need to use padding: although trivial in this case, you must remember, that tensor must accomodate for a longest word, thus dimension 1 is $\\max(L_i)$.\n",
        "\n",
        "Note also, that the only loop you need here is a loop over `words`, there's no need to loop over the resulting tensor.\n",
        "\n",
        "The result will be tested against three predefined lists of word, with all words being lowercase and containing only ASCII characters."
      ]
    },
    {
      "cell_type": "code",
      "execution_count": 47,
      "metadata": {
        "tags": [
          "solution"
        ],
        "id": "8LYQlaZ7WPVs"
      },
      "outputs": [],
      "source": [
        "def encode(words):\n",
        "    # your code goes here\n",
        "    N = len(words)\n",
        "    max_L = len(max(words, key = len))\n",
        "    a_ascii = torch.tensor(list(bytes('a', 'ascii')))\n",
        "\n",
        "    output = torch.zeros(N, max_L, 26)\n",
        "\n",
        "    for idx, word in enumerate(words):\n",
        "      output[idx, torch.arange(len(word)), torch.tensor(list(bytes(word, 'ascii'))) - a_ascii] = 1\n",
        "\n",
        "    return output"
      ]
    },
    {
      "cell_type": "code",
      "execution_count": 48,
      "metadata": {
        "tags": [
          "validation"
        ],
        "id": "HT_rQZ4tWPVs"
      },
      "outputs": [],
      "source": [
        "PROBLEM_ID = 3\n",
        "\n",
        "if TEST:\n",
        "    total_grade += solutions.check(STUDENT, PROBLEM_ID, encode)"
      ]
    },
    {
      "cell_type": "code",
      "source": [
        "if not TEST:\n",
        "\n",
        "  words = ['hello', 'a']\n",
        "  correct_res = torch.zeros(2, 5, 26)\n",
        "  correct_res[0, [0, 1, 2, 3, 4], [7, 4, 11, 11, 14]] = 1\n",
        "  correct_res[1, 0, 0] = 1\n",
        "\n",
        "  print('OK' if (encode(words) == correct_res).all().item() else 'ERROR')"
      ],
      "metadata": {
        "colab": {
          "base_uri": "https://localhost:8080/"
        },
        "id": "3kqeDo__7ybX",
        "outputId": "3a2ca5c1-40fd-4c25-cea8-46a285e85acb"
      },
      "execution_count": 49,
      "outputs": [
        {
          "output_type": "stream",
          "name": "stdout",
          "text": [
            "OK\n"
          ]
        }
      ]
    },
    {
      "cell_type": "markdown",
      "metadata": {
        "id": "V5dVCToHWPVt"
      },
      "source": [
        "# Gradients"
      ]
    },
    {
      "cell_type": "markdown",
      "metadata": {
        "id": "ciiNVPuOWPVt"
      },
      "source": [
        "### 4. Generate gradient (1 point).\n",
        "\n",
        "For 2-dimensional tensor `tr`, calculate a gradient of $\\sum\\log tr_{ij}$. Note, that you're provided with dimensions and interval, and not the `tr` inself:\n",
        "\n",
        "- `dims` is a tuple, so that `tr.size()` equals `dims`,\n",
        "- `lims` is an interval, so that elements of `tr` are integers, uniformly sampled from `[lims[0], lims[1])` interval (note, that lims[1] is **not** included).\n",
        "\n",
        "Result must be a tensor of the same shape as `tr` (namely, `dims`), containing gradients of the following function:\n",
        "\n",
        "$$\\sum_{ij}\\log tr_{ij}.$$\n",
        "\n",
        "and generated `tr` itself.\n",
        "\n",
        "Result **will be tested against multiple random combinations of input tensor dimensions ($10 \\leq n < 100 $) and sampling interval (`lims[0]=1`, `10 <= lims[1] < 100`)**.\n",
        "\n",
        "**Hint**: think on how you can validate the solution yourself, given that gradient can be computed manually on paper.\n",
        "\n",
        "Example of input parameters: `generate_grad((2, 5), (1, 10))` means that:\n",
        "* dimension of the input / output tensor are (2, 5)\n",
        "* the generated tensor will contain random numbers from 1 to 9"
      ]
    },
    {
      "cell_type": "code",
      "execution_count": null,
      "metadata": {
        "tags": [
          "solution"
        ],
        "id": "3k-U-kiiWPVu"
      },
      "outputs": [],
      "source": [
        "def generate_grad(dims, lims):\n",
        "    \"\"\"Generate gradient of `log(x)`.\"\"\"\n",
        "    # generate tr first\n",
        "    tr = torch.distributions.uniform.Uniform(lims[0], lims[1]).sample(dims).requires_grad_()\n",
        "\n",
        "    # gradient calculation\n",
        "    torch.log(tr).sum().backward()\n",
        "\n",
        "    return tr.grad, tr"
      ]
    },
    {
      "cell_type": "code",
      "execution_count": null,
      "metadata": {
        "tags": [
          "validation"
        ],
        "id": "MPOfA3yjWPVu"
      },
      "outputs": [],
      "source": [
        "PROBLEM_ID = 4\n",
        "\n",
        "if TEST:\n",
        "    total_grade += solutions.check(STUDENT, PROBLEM_ID, generate_grad)"
      ]
    },
    {
      "cell_type": "code",
      "source": [
        "if not TEST:\n",
        "  tr_grad, tr = generate_grad((2, 5), (1,10))\n",
        "  print(tr.size())\n",
        "  print(tr_grad.shape)\n",
        "  print(tr)\n",
        "  print(tr_grad)\n",
        "  print(torch.pow(tr, -1))\n",
        "  print((tr_grad == torch.pow(tr, -1)).all())"
      ],
      "metadata": {
        "colab": {
          "base_uri": "https://localhost:8080/"
        },
        "id": "VmALmhrQOnSh",
        "outputId": "10ff519a-11f0-4318-c234-f98b4e69990e"
      },
      "execution_count": null,
      "outputs": [
        {
          "output_type": "stream",
          "name": "stdout",
          "text": [
            "torch.Size([2, 5])\n",
            "torch.Size([2, 5])\n",
            "tensor([[4.5491, 7.1587, 4.1889, 1.4202, 9.1562],\n",
            "        [3.6287, 8.5148, 1.2457, 2.9089, 2.7161]], requires_grad=True)\n",
            "tensor([[0.2198, 0.1397, 0.2387, 0.7041, 0.1092],\n",
            "        [0.2756, 0.1174, 0.8028, 0.3438, 0.3682]])\n",
            "tensor([[0.2198, 0.1397, 0.2387, 0.7041, 0.1092],\n",
            "        [0.2756, 0.1174, 0.8028, 0.3438, 0.3682]], grad_fn=<PowBackward0>)\n",
            "tensor(True)\n"
          ]
        }
      ]
    },
    {
      "cell_type": "markdown",
      "metadata": {
        "tags": [
          "problem"
        ],
        "id": "5ocBujSxWPVv"
      },
      "source": [
        "### 5. Find a minimum (2 points, manually graded).\n",
        "\n",
        "Consider the following scalar function:\n",
        "\n",
        "$$\n",
        "f(x) = ax^2 + bx + c\n",
        "$$\n",
        "\n",
        "Given the $a,b,c$, find $x$, which minimizes $f(x)$. Note this:\n",
        "\n",
        "- $a,b,c$ are fixed, and generated in such a way, that minimum always exists ($f(x)$ is convex),\n",
        "- $x$ is a scalar value, i.e. 0-dimensional tensor.\n",
        "\n",
        "**Hint:** stop for a second to think about which tensor must contain `requires_grad` and on which scalar should `.backward()` be called."
      ]
    },
    {
      "cell_type": "code",
      "execution_count": null,
      "metadata": {
        "ExecuteTime": {
          "end_time": "2019-11-13T23:15:11.348224Z",
          "start_time": "2019-11-13T23:15:11.334569Z"
        },
        "tags": [
          "solution"
        ],
        "id": "syZnk2DLWPVv"
      },
      "outputs": [],
      "source": [
        "def generate_coeffs():\n",
        "    a = torch.rand(size=()) * 10\n",
        "    b = -10 + torch.rand(size=()) * 10\n",
        "    c = -10 + torch.rand(size=()) * 10\n",
        "    return a, b, c\n",
        "\n",
        "def func(x, a, b, c):\n",
        "    return x.pow(2) * a + x * b + c"
      ]
    },
    {
      "cell_type": "code",
      "execution_count": null,
      "metadata": {
        "ExecuteTime": {
          "end_time": "2019-11-13T23:25:50.106449Z",
          "start_time": "2019-11-13T23:25:50.095086Z"
        },
        "tags": [
          "solution"
        ],
        "id": "gUOiVeZQWPVv",
        "colab": {
          "base_uri": "https://localhost:8080/"
        },
        "outputId": "8a50edc1-096f-4be4-b936-ea8f1afc534d"
      },
      "outputs": [
        {
          "output_type": "stream",
          "name": "stdout",
          "text": [
            "Epoch 0: f(x = -40.820579528808594) = 23193.3359375\n",
            "Epoch 1: f(x = 34.2205810546875) = 15489.85546875\n",
            "Epoch 2: f(x = -27.107452392578125) = 10344.611328125\n",
            "Epoch 3: f(x = 23.013412475585938) = 6908.04248046875\n",
            "Epoch 4: f(x = -17.948299407958984) = 4612.71826171875\n",
            "Epoch 5: f(x = 15.52801513671875) = 3079.6455078125\n",
            "Epoch 6: f(x = -11.830793380737305) = 2055.6875\n",
            "Epoch 7: f(x = 10.52842903137207) = 1371.7744140625\n",
            "Epoch 8: f(x = -7.744838714599609) = 914.980224609375\n",
            "Epoch 9: f(x = 7.189146995544434) = 609.8825073242188\n",
            "Epoch 10: f(x = -5.015781402587891) = 406.1038818359375\n",
            "Epoch 11: f(x = 4.958803176879883) = 269.99798583984375\n",
            "Epoch 12: f(x = -3.1930131912231445) = 179.09117126464844\n",
            "Epoch 13: f(x = 3.469130039215088) = 118.37348175048828\n",
            "Epoch 14: f(x = -1.9755644798278809) = 77.81940460205078\n",
            "Epoch 15: f(x = 2.4741592407226562) = 50.73284149169922\n",
            "Epoch 16: f(x = -1.1624162197113037) = 32.64141082763672\n",
            "Epoch 17: f(x = 1.8096067905426025) = 20.557941436767578\n",
            "Epoch 18: f(x = -0.6193046569824219) = 12.48724365234375\n",
            "Epoch 19: f(x = 1.3657442331314087) = 7.09672737121582\n",
            "Epoch 20: f(x = -0.2565542459487915) = 3.496340751647949\n",
            "Epoch 21: f(x = 1.0692832469940186) = 1.0916008949279785\n",
            "Epoch 22: f(x = -0.014268994331359863) = -0.5145540237426758\n",
            "Epoch 23: f(x = 0.8712735176086426) = -1.5873230695724487\n",
            "Epoch 24: f(x = 0.14755630493164062) = -2.3038392066955566\n",
            "Epoch 25: f(x = 0.7390204668045044) = -2.7824082374572754\n",
            "Epoch 26: f(x = 0.2556411921977997) = -3.102050304412842\n",
            "Epoch 27: f(x = 0.6506870985031128) = -3.315542459487915\n",
            "Epoch 28: f(x = 0.3278323709964752) = -3.458136558532715\n",
            "Epoch 29: f(x = 0.5916882753372192) = -3.5533769130706787\n",
            "Epoch 30: f(x = 0.3760497272014618) = -3.6169893741607666\n",
            "Epoch 31: f(x = 0.5522822141647339) = -3.6594765186309814\n",
            "Epoch 32: f(x = 0.4082546830177307) = -3.687854051589966\n",
            "Epoch 33: f(x = 0.5259624123573303) = -3.706808090209961\n",
            "Epoch 34: f(x = 0.4297647178173065) = -3.7194676399230957\n",
            "Epoch 35: f(x = 0.5083831548690796) = -3.7279229164123535\n",
            "Epoch 36: f(x = 0.4441315531730652) = -3.7335703372955322\n",
            "Epoch 37: f(x = 0.49664172530174255) = -3.737342357635498\n",
            "Epoch 38: f(x = 0.4537273347377777) = -3.7398617267608643\n",
            "Epoch 39: f(x = 0.48879948258399963) = -3.741544723510742\n",
            "Epoch 40: f(x = 0.4601365029811859) = -3.742668390274048\n",
            "Epoch 41: f(x = 0.48356151580810547) = -3.7434191703796387\n",
            "Epoch 42: f(x = 0.4644172787666321) = -3.7439205646514893\n",
            "Epoch 43: f(x = 0.4800630807876587) = -3.744255304336548\n",
            "Epoch 44: f(x = 0.467276394367218) = -3.744479179382324\n",
            "Epoch 45: f(x = 0.47772637009620667) = -3.744628429412842\n",
            "Epoch 46: f(x = 0.46918612718582153) = -3.7447283267974854\n",
            "Epoch 47: f(x = 0.47616568207740784) = -3.7447948455810547\n",
            "Epoch 48: f(x = 0.47046157717704773) = -3.7448394298553467\n",
            "Epoch 49: f(x = 0.4751233160495758) = -3.7448692321777344\n",
            "Epoch 50: f(x = 0.4713134765625) = -3.744889259338379\n",
            "Epoch 51: f(x = 0.4744270443916321) = -3.7449021339416504\n",
            "Epoch 52: f(x = 0.4718824625015259) = -3.7449111938476562\n",
            "Epoch 53: f(x = 0.47396203875541687) = -3.744917154312134\n",
            "Epoch 54: f(x = 0.47226250171661377) = -3.7449209690093994\n",
            "Epoch 55: f(x = 0.4736514389514923) = -3.7449238300323486\n",
            "Epoch 56: f(x = 0.47251638770103455) = -3.7449254989624023\n",
            "Epoch 57: f(x = 0.47344401478767395) = -3.744926691055298\n",
            "Epoch 58: f(x = 0.472685843706131) = -3.744927167892456\n",
            "Epoch 59: f(x = 0.47330543398857117) = -3.7449281215667725\n",
            "Epoch 60: f(x = 0.4727991223335266) = -3.7449281215667725\n",
            "Epoch 61: f(x = 0.47321292757987976) = -3.7449285984039307\n",
            "Epoch 62: f(x = 0.4728747606277466) = -3.7449283599853516\n",
            "Epoch 63: f(x = 0.47315114736557007) = -3.7449285984039307\n",
            "Epoch 64: f(x = 0.47292521595954895) = -3.744929075241089\n",
            "Epoch 65: f(x = 0.4731098413467407) = -3.7449288368225098\n",
            "Epoch 66: f(x = 0.4729589819908142) = -3.7449288368225098\n",
            "Epoch 67: f(x = 0.4730823040008545) = -3.744929075241089\n",
            "Epoch 68: f(x = 0.4729815125465393) = -3.744929075241089\n",
            "Epoch 69: f(x = 0.4730638265609741) = -3.744929075241089\n",
            "Epoch 70: f(x = 0.4729965925216675) = -3.744929075241089\n",
            "Epoch 71: f(x = 0.473051518201828) = -3.744929075241089\n",
            "Epoch 72: f(x = 0.47300660610198975) = -3.744929075241089\n",
            "Epoch 73: f(x = 0.4730433225631714) = -3.744929075241089\n",
            "Epoch 74: f(x = 0.47301337122917175) = -3.744929075241089\n",
            "Epoch 75: f(x = 0.4730377793312073) = -3.7449288368225098\n",
            "Epoch 76: f(x = 0.4730178415775299) = -3.7449288368225098\n",
            "Epoch 77: f(x = 0.473034143447876) = -3.744929075241089\n",
            "Epoch 78: f(x = 0.47302088141441345) = -3.7449285984039307\n",
            "Epoch 79: f(x = 0.4730316698551178) = -3.7449288368225098\n",
            "Epoch 80: f(x = 0.4730229079723358) = -3.744929075241089\n",
            "Epoch 81: f(x = 0.47303006052970886) = -3.744929075241089\n",
            "Epoch 82: f(x = 0.4730241596698761) = -3.744929075241089\n",
            "Epoch 83: f(x = 0.4730290174484253) = -3.7449285984039307\n",
            "Epoch 84: f(x = 0.47302502393722534) = -3.744929075241089\n",
            "Epoch 85: f(x = 0.4730282723903656) = -3.7449288368225098\n",
            "Epoch 86: f(x = 0.4730255901813507) = -3.744929075241089\n",
            "Epoch 87: f(x = 0.4730277955532074) = -3.7449288368225098\n",
            "Epoch 88: f(x = 0.47302597761154175) = -3.7449288368225098\n",
            "Epoch 89: f(x = 0.4730274975299835) = -3.7449288368225098\n",
            "Epoch 90: f(x = 0.47302624583244324) = -3.744929075241089\n",
            "Epoch 91: f(x = 0.4730272889137268) = -3.7449288368225098\n",
            "Epoch 92: f(x = 0.47302642464637756) = -3.7449288368225098\n",
            "Epoch 93: f(x = 0.47302719950675964) = -3.7449288368225098\n",
            "Epoch 94: f(x = 0.4730265438556671) = -3.7449288368225098\n",
            "Epoch 95: f(x = 0.4730270206928253) = -3.7449288368225098\n",
            "Epoch 96: f(x = 0.4730266332626343) = -3.744929075241089\n",
            "Epoch 97: f(x = 0.4730270206928253) = -3.7449288368225098\n",
            "Epoch 98: f(x = 0.4730266332626343) = -3.744929075241089\n",
            "Epoch 99: f(x = 0.4730270206928253) = -3.7449288368225098\n"
          ]
        }
      ],
      "source": [
        "EPOCHS = 100 #20\n",
        "LR = 1e-1\n",
        "STARTING_VAL = 51. # Consider choosing different starting values for x to speed-up the optimization\n",
        "\n",
        "# Initialize x, a, b, c\n",
        "x = torch.tensor(STARTING_VAL, requires_grad=True)\n",
        "a, b, c = generate_coeffs()\n",
        "\n",
        "# Collect f(x) values during training for visuzalition later on\n",
        "x_vals = []\n",
        "f_vals = []\n",
        "\n",
        "for i in range(EPOCHS):\n",
        "    # Your code goes here\n",
        "    f = func(x, a, b, c)\n",
        "    f.backward()\n",
        "\n",
        "    x_vals.append(x.item())\n",
        "    f_vals.append(f.item())\n",
        "\n",
        "    with torch.no_grad():\n",
        "        x.sub_(LR * x.grad)\n",
        "    x.grad.zero_()\n",
        "\n",
        "    print(f\"Epoch {i}: f(x = {x}) = {f_vals[-1]}\")\n"
      ]
    },
    {
      "cell_type": "code",
      "execution_count": null,
      "metadata": {
        "ExecuteTime": {
          "end_time": "2019-11-13T23:26:15.085855Z",
          "start_time": "2019-11-13T23:26:15.078760Z"
        },
        "tags": [
          "solution"
        ],
        "id": "_zpmvNoyWPVw",
        "colab": {
          "base_uri": "https://localhost:8080/",
          "height": 517
        },
        "outputId": "303dbc90-5541-45ca-cb42-98b861bba459"
      },
      "outputs": [
        {
          "output_type": "display_data",
          "data": {
            "text/plain": [
              "<Figure size 600x600 with 1 Axes>"
            ],
            "image/png": "[encoded data removed]"
          },
          "metadata": {}
        }
      ],
      "source": [
        "if f_vals:\n",
        "    grid = np.linspace(-5, 5, 100)\n",
        "    plt.plot(grid, np.square(grid) * a.item() + grid * b.item() + c.item())\n",
        "    plt.plot(x_vals[2:-30:10], f_vals[2:-30:10], 'ro')\n",
        "    plt.hlines(f_vals[-1], -5, 5, \"firebrick\", \"--\", linewidth=1)"
      ]
    },
    {
      "cell_type": "code",
      "execution_count": null,
      "metadata": {
        "tags": [
          "validation"
        ],
        "id": "r7Hz05x6WPVw"
      },
      "outputs": [],
      "source": [
        "PROBLEM_ID = 5\n",
        "GRADE = 0\n",
        "\n",
        "if TEST:\n",
        "    total_grade += GRADE"
      ]
    },
    {
      "cell_type": "code",
      "execution_count": null,
      "metadata": {
        "ExecuteTime": {
          "end_time": "2019-11-13T23:48:26.479012Z",
          "start_time": "2019-11-13T23:48:26.459417Z"
        },
        "tags": [
          "validation"
        ],
        "id": "bCVR5G2KWPVw"
      },
      "outputs": [],
      "source": [
        "if TEST:\n",
        "    print(f\"{STUDENT}: {int(100 * total_grade / MAX_POINTS)}\")"
      ]
    },
    {
      "cell_type": "code",
      "execution_count": null,
      "metadata": {
        "id": "JQbByV6NWPVw",
        "colab": {
          "base_uri": "https://localhost:8080/"
        },
        "outputId": "fa3dfc6a-0289-4f60-8d2a-4f459c970cd6"
      },
      "outputs": [
        {
          "output_type": "stream",
          "name": "stdout",
          "text": [
            "x_min theory: 0.4730268120765686\n",
            "f_min theory: -3.7449288368225098\n",
            "x_min grad: 0.4730270206928253\n",
            "f_min grad: -3.7449288368225098\n"
          ]
        }
      ],
      "source": [
        "if not TEST:\n",
        "  x_min = -b/(2*a)\n",
        "  f_min = func(x_min, a, b, c)\n",
        "  print(f'x_min theory: {x_min}')\n",
        "  print(f'f_min theory: {f_min}')\n",
        "  print(f'x_min grad: {x}')\n",
        "  print(f'f_min grad: {f_vals[-1]}')"
      ]
    }
  ],
  "metadata": {
    "@webio": {
      "lastCommId": null,
      "lastKernelId": null
    },
    "celltoolbar": "Tags",
    "kernelspec": {
      "display_name": "Python 3",
      "language": "python",
      "name": "python3"
    },
    "language_info": {
      "codemirror_mode": {
        "name": "ipython",
        "version": 3
      },
      "file_extension": ".py",
      "mimetype": "text/x-python",
      "name": "python",
      "nbconvert_exporter": "python",
      "pygments_lexer": "ipython3",
      "version": "3.8.12"
    },
    "colab": {
      "provenance": []
    }
  },
  "nbformat": 4,
  "nbformat_minor": 0
}